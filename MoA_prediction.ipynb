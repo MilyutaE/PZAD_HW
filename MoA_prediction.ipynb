{
 "cells": [
  {
   "cell_type": "markdown",
   "metadata": {},
   "source": [
    "## Код написан в рамках конкурса: https://www.kaggle.com/c/lish-moa\n",
    "Размещается по адресу : https://www.kaggle.com/milev3005/notebook3c105af58e"
   ]
  },
  {
   "cell_type": "code",
   "execution_count": 1,
   "metadata": {
    "_cell_guid": "b1076dfc-b9ad-4769-8c92-a6c4dae69d19",
    "_uuid": "8f2839f25d086af736a60e9eeb907d3b93b6e0e5",
    "execution": {
     "iopub.execute_input": "2020-11-29T08:48:56.138338Z",
     "iopub.status.busy": "2020-11-29T08:48:56.137379Z",
     "iopub.status.idle": "2020-11-29T08:48:56.144448Z",
     "shell.execute_reply": "2020-11-29T08:48:56.145147Z"
    },
    "papermill": {
     "duration": 0.052387,
     "end_time": "2020-11-29T08:48:56.145359",
     "exception": false,
     "start_time": "2020-11-29T08:48:56.092972",
     "status": "completed"
    },
    "tags": []
   },
   "outputs": [
    {
     "name": "stdout",
     "output_type": "stream",
     "text": [
      "/kaggle/input/lish-moa/sample_submission.csv\n",
      "/kaggle/input/lish-moa/train_drug.csv\n",
      "/kaggle/input/lish-moa/train_targets_scored.csv\n",
      "/kaggle/input/lish-moa/train_targets_nonscored.csv\n",
      "/kaggle/input/lish-moa/train_features.csv\n",
      "/kaggle/input/lish-moa/test_features.csv\n"
     ]
    }
   ],
   "source": [
    "# This Python 3 environment comes with many helpful analytics libraries installed\n",
    "# It is defined by the kaggle/python Docker image: https://github.com/kaggle/docker-python\n",
    "# For example, here's several helpful packages to load\n",
    "\n",
    "import numpy as np # linear algebra\n",
    "import pandas as pd # data processing, CSV file I/O (e.g. pd.read_csv)\n",
    "\n",
    "# Input data files are available in the read-only \"../input/\" directory\n",
    "# For example, running this (by clicking run or pressing Shift+Enter) will list all files under the input directory\n",
    "\n",
    "import os\n",
    "for dirname, _, filenames in os.walk('/kaggle/input'):\n",
    "    for filename in filenames:\n",
    "        print(os.path.join(dirname, filename))\n",
    "\n",
    "# You can write up to 5GB to the current directory (/kaggle/working/) that gets preserved as output when you create a version using \"Save & Run All\" \n",
    "# You can also write temporary files to /kaggle/temp/, but they won't be saved outside of the current session"
   ]
  },
  {
   "cell_type": "code",
   "execution_count": 2,
   "metadata": {
    "execution": {
     "iopub.execute_input": "2020-11-29T08:48:56.238381Z",
     "iopub.status.busy": "2020-11-29T08:48:56.237591Z",
     "iopub.status.idle": "2020-11-29T08:49:03.637439Z",
     "shell.execute_reply": "2020-11-29T08:49:03.639230Z"
    },
    "papermill": {
     "duration": 7.454991,
     "end_time": "2020-11-29T08:49:03.639457",
     "exception": false,
     "start_time": "2020-11-29T08:48:56.184466",
     "status": "completed"
    },
    "tags": []
   },
   "outputs": [],
   "source": [
    "import pandas as pd\n",
    "import numpy as np\n",
    "import sklearn\n",
    "from sklearn.linear_model import LogisticRegression\n",
    "from sklearn.ensemble import RandomForestClassifier\n",
    "from sklearn.model_selection import train_test_split\n",
    "from sklearn.model_selection import cross_val_score\n",
    "from tqdm import tqdm\n",
    "import matplotlib.pyplot as plt\n",
    "# %matplotlib nbagg\n",
    "%matplotlib inline\n",
    "import seaborn as sns\n",
    "\n",
    "test_features = pd.read_csv('../input/lish-moa/test_features.csv')\n",
    "test_features['cp_type'] = test_features['cp_type'].map({'trt_cp':0, 'ctl_vehicle':1})\n",
    "test_features['cp_dose'] = test_features['cp_dose'].map({'D1':0, 'D2':1})\n",
    "\n",
    "train_features = pd.read_csv('../input/lish-moa/train_features.csv')\n",
    "train_features['cp_type'] = train_features['cp_type'].map({'trt_cp':0, 'ctl_vehicle':1})\n",
    "train_features['cp_dose'] = train_features['cp_dose'].map({'D1':0, 'D2':1})\n",
    "\n",
    "train_targets_scored = pd.read_csv('../input/lish-moa/train_targets_scored.csv')"
   ]
  },
  {
   "cell_type": "markdown",
   "metadata": {
    "papermill": {
     "duration": 0.055079,
     "end_time": "2020-11-29T08:49:03.753207",
     "exception": false,
     "start_time": "2020-11-29T08:49:03.698128",
     "status": "completed"
    },
    "tags": []
   },
   "source": [
    "Первое,небольшой анализ структуры данных."
   ]
  },
  {
   "cell_type": "code",
   "execution_count": 3,
   "metadata": {
    "execution": {
     "iopub.execute_input": "2020-11-29T08:49:03.883144Z",
     "iopub.status.busy": "2020-11-29T08:49:03.882157Z",
     "iopub.status.idle": "2020-11-29T08:49:03.891131Z",
     "shell.execute_reply": "2020-11-29T08:49:03.890424Z"
    },
    "papermill": {
     "duration": 0.08248,
     "end_time": "2020-11-29T08:49:03.891268",
     "exception": false,
     "start_time": "2020-11-29T08:49:03.808788",
     "status": "completed"
    },
    "tags": []
   },
   "outputs": [
    {
     "data": {
      "text/plain": [
       "set()"
      ]
     },
     "execution_count": 3,
     "metadata": {},
     "output_type": "execute_result"
    }
   ],
   "source": [
    "# Убедимся, что нет перескечений\n",
    "set(test_features['sig_id']) & set(train_features['sig_id'])"
   ]
  },
  {
   "cell_type": "code",
   "execution_count": 4,
   "metadata": {
    "execution": {
     "iopub.execute_input": "2020-11-29T08:49:04.013826Z",
     "iopub.status.busy": "2020-11-29T08:49:04.013011Z",
     "iopub.status.idle": "2020-11-29T08:49:04.030793Z",
     "shell.execute_reply": "2020-11-29T08:49:04.031459Z"
    },
    "papermill": {
     "duration": 0.083995,
     "end_time": "2020-11-29T08:49:04.031627",
     "exception": false,
     "start_time": "2020-11-29T08:49:03.947632",
     "status": "completed"
    },
    "tags": []
   },
   "outputs": [
    {
     "data": {
      "text/plain": [
       "cp_type\n",
       "0          21948\n",
       "1           1866\n",
       "dtype: int64"
      ]
     },
     "execution_count": 4,
     "metadata": {},
     "output_type": "execute_result"
    }
   ],
   "source": [
    "train_features[['cp_type']].value_counts()"
   ]
  },
  {
   "cell_type": "code",
   "execution_count": 5,
   "metadata": {
    "execution": {
     "iopub.execute_input": "2020-11-29T08:49:04.168060Z",
     "iopub.status.busy": "2020-11-29T08:49:04.167264Z",
     "iopub.status.idle": "2020-11-29T08:49:04.176348Z",
     "shell.execute_reply": "2020-11-29T08:49:04.177374Z"
    },
    "papermill": {
     "duration": 0.078536,
     "end_time": "2020-11-29T08:49:04.177527",
     "exception": false,
     "start_time": "2020-11-29T08:49:04.098991",
     "status": "completed"
    },
    "tags": []
   },
   "outputs": [
    {
     "data": {
      "text/plain": [
       "cp_dose\n",
       "0          12147\n",
       "1          11667\n",
       "dtype: int64"
      ]
     },
     "execution_count": 5,
     "metadata": {},
     "output_type": "execute_result"
    }
   ],
   "source": [
    "train_features[['cp_dose']].value_counts()"
   ]
  },
  {
   "cell_type": "code",
   "execution_count": 6,
   "metadata": {
    "execution": {
     "iopub.execute_input": "2020-11-29T08:49:04.317131Z",
     "iopub.status.busy": "2020-11-29T08:49:04.315924Z",
     "iopub.status.idle": "2020-11-29T08:49:04.331342Z",
     "shell.execute_reply": "2020-11-29T08:49:04.330012Z"
    },
    "papermill": {
     "duration": 0.094558,
     "end_time": "2020-11-29T08:49:04.331445",
     "exception": false,
     "start_time": "2020-11-29T08:49:04.236887",
     "status": "completed"
    },
    "tags": []
   },
   "outputs": [],
   "source": [
    "def create_mean_std_df(df):\n",
    "    means = df.mean()\n",
    "    stds = df.std()\n",
    "    ret_df = pd.concat([means, stds], axis=1).reset_index()\n",
    "    ret_df.columns = ['index', 'mean', 'std']\n",
    "    ret_df['pref'] = ret_df['index'].apply(lambda x: x.split('-')[0])\n",
    "    ret_df['post'] = ret_df['index'].apply(lambda x: x.split('-')[1])\n",
    "    return ret_df\n",
    "\n",
    "def scatter(y, x=None, color= None):\n",
    "    fig, ax = plt.subplots()\n",
    "    un_c = color.unique()\n",
    "    for i, col in enumerate(un_c):\n",
    "        y_i = y[color == col]\n",
    "        if type(x) != pd.core.series.Series:\n",
    "            x_i = range(0 + i * (y.shape[0] - y_i.shape[0]),\n",
    "                    (1 - i)*y_i.shape[0] + i * y.shape[0])\n",
    "        else:\n",
    "            x_i = x[color == col]\n",
    "        ax.scatter(x_i, y_i, c=col, label=col,\n",
    "               alpha=0.3)\n",
    "        ax.set_ylabel(y.name)\n",
    "        ax.legend()\n",
    "        ax.grid(True)\n",
    "    plt.show()"
   ]
  },
  {
   "cell_type": "code",
   "execution_count": 7,
   "metadata": {
    "execution": {
     "iopub.execute_input": "2020-11-29T08:49:04.469513Z",
     "iopub.status.busy": "2020-11-29T08:49:04.468573Z",
     "iopub.status.idle": "2020-11-29T08:49:04.572111Z",
     "shell.execute_reply": "2020-11-29T08:49:04.571570Z"
    },
    "papermill": {
     "duration": 0.200702,
     "end_time": "2020-11-29T08:49:04.572227",
     "exception": false,
     "start_time": "2020-11-29T08:49:04.371525",
     "status": "completed"
    },
    "tags": []
   },
   "outputs": [],
   "source": [
    "tr = create_mean_std_df(train_features.iloc[:,4:])"
   ]
  },
  {
   "cell_type": "code",
   "execution_count": 8,
   "metadata": {
    "execution": {
     "iopub.execute_input": "2020-11-29T08:49:04.654549Z",
     "iopub.status.busy": "2020-11-29T08:49:04.653628Z",
     "iopub.status.idle": "2020-11-29T08:49:04.930880Z",
     "shell.execute_reply": "2020-11-29T08:49:04.929949Z"
    },
    "papermill": {
     "duration": 0.32008,
     "end_time": "2020-11-29T08:49:04.931005",
     "exception": false,
     "start_time": "2020-11-29T08:49:04.610925",
     "status": "completed"
    },
    "tags": []
   },
   "outputs": [
    {
     "data": {
      "image/png": "[encoded data removed]",
      "text/plain": [
       "<Figure size 432x288 with 1 Axes>"
      ]
     },
     "metadata": {
      "needs_background": "light"
     },
     "output_type": "display_data"
    }
   ],
   "source": [
    "scatter(y=tr['mean'], color = tr['pref'])"
   ]
  },
  {
   "cell_type": "code",
   "execution_count": 9,
   "metadata": {
    "execution": {
     "iopub.execute_input": "2020-11-29T08:49:05.028519Z",
     "iopub.status.busy": "2020-11-29T08:49:05.027485Z",
     "iopub.status.idle": "2020-11-29T08:49:05.238464Z",
     "shell.execute_reply": "2020-11-29T08:49:05.239154Z"
    },
    "papermill": {
     "duration": 0.263495,
     "end_time": "2020-11-29T08:49:05.239322",
     "exception": false,
     "start_time": "2020-11-29T08:49:04.975827",
     "status": "completed"
    },
    "tags": []
   },
   "outputs": [
    {
     "data": {
      "image/png": "[encoded data removed]",
      "text/plain": [
       "<Figure size 432x288 with 1 Axes>"
      ]
     },
     "metadata": {
      "needs_background": "light"
     },
     "output_type": "display_data"
    }
   ],
   "source": [
    "scatter(y = tr['std'], color = tr['pref'])"
   ]
  },
  {
   "cell_type": "code",
   "execution_count": 10,
   "metadata": {
    "execution": {
     "iopub.execute_input": "2020-11-29T08:49:05.350371Z",
     "iopub.status.busy": "2020-11-29T08:49:05.349117Z",
     "iopub.status.idle": "2020-11-29T08:49:05.628340Z",
     "shell.execute_reply": "2020-11-29T08:49:05.628987Z"
    },
    "papermill": {
     "duration": 0.338388,
     "end_time": "2020-11-29T08:49:05.629135",
     "exception": false,
     "start_time": "2020-11-29T08:49:05.290747",
     "status": "completed"
    },
    "tags": []
   },
   "outputs": [
    {
     "data": {
      "image/png": "[encoded data removed]",
      "text/plain": [
       "<Figure size 432x288 with 1 Axes>"
      ]
     },
     "metadata": {
      "needs_background": "light"
     },
     "output_type": "display_data"
    }
   ],
   "source": [
    "scatter(y = tr['std'], x = tr['mean'], color = tr['pref'])"
   ]
  },
  {
   "cell_type": "code",
   "execution_count": 11,
   "metadata": {
    "execution": {
     "iopub.execute_input": "2020-11-29T08:49:05.733845Z",
     "iopub.status.busy": "2020-11-29T08:49:05.732498Z",
     "iopub.status.idle": "2020-11-29T08:49:40.629197Z",
     "shell.execute_reply": "2020-11-29T08:49:40.628184Z"
    },
    "papermill": {
     "duration": 34.949709,
     "end_time": "2020-11-29T08:49:40.629320",
     "exception": false,
     "start_time": "2020-11-29T08:49:05.679611",
     "status": "completed"
    },
    "tags": []
   },
   "outputs": [],
   "source": [
    "corrMatrix = train_features.corr()"
   ]
  },
  {
   "cell_type": "code",
   "execution_count": 12,
   "metadata": {
    "execution": {
     "iopub.execute_input": "2020-11-29T08:49:40.732908Z",
     "iopub.status.busy": "2020-11-29T08:49:40.730410Z",
     "iopub.status.idle": "2020-11-29T08:49:40.750754Z",
     "shell.execute_reply": "2020-11-29T08:49:40.751295Z"
    },
    "papermill": {
     "duration": 0.078173,
     "end_time": "2020-11-29T08:49:40.751438",
     "exception": false,
     "start_time": "2020-11-29T08:49:40.673265",
     "status": "completed"
    },
    "tags": []
   },
   "outputs": [
    {
     "data": {
      "text/html": [
       "<div>\n",
       "<style scoped>\n",
       "    .dataframe tbody tr th:only-of-type {\n",
       "        vertical-align: middle;\n",
       "    }\n",
       "\n",
       "    .dataframe tbody tr th {\n",
       "        vertical-align: top;\n",
       "    }\n",
       "\n",
       "    .dataframe thead th {\n",
       "        text-align: right;\n",
       "    }\n",
       "</style>\n",
       "<table border=\"1\" class=\"dataframe\">\n",
       "  <thead>\n",
       "    <tr style=\"text-align: right;\">\n",
       "      <th></th>\n",
       "      <th>cp_type</th>\n",
       "      <th>cp_time</th>\n",
       "      <th>cp_dose</th>\n",
       "      <th>g-0</th>\n",
       "      <th>g-1</th>\n",
       "      <th>g-2</th>\n",
       "      <th>g-3</th>\n",
       "      <th>g-4</th>\n",
       "      <th>g-5</th>\n",
       "      <th>g-6</th>\n",
       "      <th>...</th>\n",
       "      <th>c-90</th>\n",
       "      <th>c-91</th>\n",
       "      <th>c-92</th>\n",
       "      <th>c-93</th>\n",
       "      <th>c-94</th>\n",
       "      <th>c-95</th>\n",
       "      <th>c-96</th>\n",
       "      <th>c-97</th>\n",
       "      <th>c-98</th>\n",
       "      <th>c-99</th>\n",
       "    </tr>\n",
       "  </thead>\n",
       "  <tbody>\n",
       "    <tr>\n",
       "      <th>c-90</th>\n",
       "      <td>0.092025</td>\n",
       "      <td>-0.056778</td>\n",
       "      <td>0.021635</td>\n",
       "      <td>-0.648726</td>\n",
       "      <td>-0.034557</td>\n",
       "      <td>-0.183325</td>\n",
       "      <td>-0.091892</td>\n",
       "      <td>-0.387193</td>\n",
       "      <td>0.210235</td>\n",
       "      <td>-0.084153</td>\n",
       "      <td>...</td>\n",
       "      <td>1.000000</td>\n",
       "      <td>0.862366</td>\n",
       "      <td>0.868444</td>\n",
       "      <td>0.877901</td>\n",
       "      <td>0.895854</td>\n",
       "      <td>0.818838</td>\n",
       "      <td>0.888795</td>\n",
       "      <td>0.860923</td>\n",
       "      <td>0.816530</td>\n",
       "      <td>0.794279</td>\n",
       "    </tr>\n",
       "    <tr>\n",
       "      <th>c-91</th>\n",
       "      <td>0.084773</td>\n",
       "      <td>-0.053159</td>\n",
       "      <td>0.025650</td>\n",
       "      <td>-0.629025</td>\n",
       "      <td>-0.000934</td>\n",
       "      <td>-0.186048</td>\n",
       "      <td>-0.045385</td>\n",
       "      <td>-0.361679</td>\n",
       "      <td>0.171185</td>\n",
       "      <td>-0.073982</td>\n",
       "      <td>...</td>\n",
       "      <td>0.862366</td>\n",
       "      <td>1.000000</td>\n",
       "      <td>0.823310</td>\n",
       "      <td>0.859351</td>\n",
       "      <td>0.865275</td>\n",
       "      <td>0.803295</td>\n",
       "      <td>0.876358</td>\n",
       "      <td>0.849142</td>\n",
       "      <td>0.818789</td>\n",
       "      <td>0.784466</td>\n",
       "    </tr>\n",
       "    <tr>\n",
       "      <th>c-92</th>\n",
       "      <td>0.076649</td>\n",
       "      <td>-0.079995</td>\n",
       "      <td>0.041799</td>\n",
       "      <td>-0.633479</td>\n",
       "      <td>-0.022478</td>\n",
       "      <td>-0.166786</td>\n",
       "      <td>-0.089801</td>\n",
       "      <td>-0.351508</td>\n",
       "      <td>0.207207</td>\n",
       "      <td>-0.078695</td>\n",
       "      <td>...</td>\n",
       "      <td>0.868444</td>\n",
       "      <td>0.823310</td>\n",
       "      <td>1.000000</td>\n",
       "      <td>0.846090</td>\n",
       "      <td>0.883464</td>\n",
       "      <td>0.793390</td>\n",
       "      <td>0.867251</td>\n",
       "      <td>0.836722</td>\n",
       "      <td>0.802289</td>\n",
       "      <td>0.767997</td>\n",
       "    </tr>\n",
       "    <tr>\n",
       "      <th>c-93</th>\n",
       "      <td>0.107095</td>\n",
       "      <td>-0.032101</td>\n",
       "      <td>0.029549</td>\n",
       "      <td>-0.668520</td>\n",
       "      <td>-0.034891</td>\n",
       "      <td>-0.190383</td>\n",
       "      <td>-0.089818</td>\n",
       "      <td>-0.397062</td>\n",
       "      <td>0.192473</td>\n",
       "      <td>-0.083806</td>\n",
       "      <td>...</td>\n",
       "      <td>0.877901</td>\n",
       "      <td>0.859351</td>\n",
       "      <td>0.846090</td>\n",
       "      <td>1.000000</td>\n",
       "      <td>0.882516</td>\n",
       "      <td>0.787176</td>\n",
       "      <td>0.873935</td>\n",
       "      <td>0.840606</td>\n",
       "      <td>0.811567</td>\n",
       "      <td>0.799651</td>\n",
       "    </tr>\n",
       "    <tr>\n",
       "      <th>c-94</th>\n",
       "      <td>0.104947</td>\n",
       "      <td>-0.064898</td>\n",
       "      <td>0.028690</td>\n",
       "      <td>-0.656116</td>\n",
       "      <td>-0.042638</td>\n",
       "      <td>-0.178312</td>\n",
       "      <td>-0.081073</td>\n",
       "      <td>-0.388885</td>\n",
       "      <td>0.211185</td>\n",
       "      <td>-0.065120</td>\n",
       "      <td>...</td>\n",
       "      <td>0.895854</td>\n",
       "      <td>0.865275</td>\n",
       "      <td>0.883464</td>\n",
       "      <td>0.882516</td>\n",
       "      <td>1.000000</td>\n",
       "      <td>0.819529</td>\n",
       "      <td>0.894631</td>\n",
       "      <td>0.862876</td>\n",
       "      <td>0.824202</td>\n",
       "      <td>0.827228</td>\n",
       "    </tr>\n",
       "    <tr>\n",
       "      <th>c-95</th>\n",
       "      <td>0.098305</td>\n",
       "      <td>-0.112583</td>\n",
       "      <td>0.025122</td>\n",
       "      <td>-0.600758</td>\n",
       "      <td>-0.011237</td>\n",
       "      <td>-0.158105</td>\n",
       "      <td>-0.016778</td>\n",
       "      <td>-0.378084</td>\n",
       "      <td>0.202341</td>\n",
       "      <td>-0.082060</td>\n",
       "      <td>...</td>\n",
       "      <td>0.818838</td>\n",
       "      <td>0.803295</td>\n",
       "      <td>0.793390</td>\n",
       "      <td>0.787176</td>\n",
       "      <td>0.819529</td>\n",
       "      <td>1.000000</td>\n",
       "      <td>0.821950</td>\n",
       "      <td>0.811155</td>\n",
       "      <td>0.787529</td>\n",
       "      <td>0.758110</td>\n",
       "    </tr>\n",
       "    <tr>\n",
       "      <th>c-96</th>\n",
       "      <td>0.087668</td>\n",
       "      <td>-0.067116</td>\n",
       "      <td>0.026105</td>\n",
       "      <td>-0.646784</td>\n",
       "      <td>-0.022127</td>\n",
       "      <td>-0.182540</td>\n",
       "      <td>-0.083846</td>\n",
       "      <td>-0.379085</td>\n",
       "      <td>0.194619</td>\n",
       "      <td>-0.079270</td>\n",
       "      <td>...</td>\n",
       "      <td>0.888795</td>\n",
       "      <td>0.876358</td>\n",
       "      <td>0.867251</td>\n",
       "      <td>0.873935</td>\n",
       "      <td>0.894631</td>\n",
       "      <td>0.821950</td>\n",
       "      <td>1.000000</td>\n",
       "      <td>0.863061</td>\n",
       "      <td>0.819600</td>\n",
       "      <td>0.789649</td>\n",
       "    </tr>\n",
       "    <tr>\n",
       "      <th>c-97</th>\n",
       "      <td>0.092418</td>\n",
       "      <td>-0.067969</td>\n",
       "      <td>0.024246</td>\n",
       "      <td>-0.622840</td>\n",
       "      <td>-0.008487</td>\n",
       "      <td>-0.178812</td>\n",
       "      <td>-0.049951</td>\n",
       "      <td>-0.394904</td>\n",
       "      <td>0.193907</td>\n",
       "      <td>-0.095448</td>\n",
       "      <td>...</td>\n",
       "      <td>0.860923</td>\n",
       "      <td>0.849142</td>\n",
       "      <td>0.836722</td>\n",
       "      <td>0.840606</td>\n",
       "      <td>0.862876</td>\n",
       "      <td>0.811155</td>\n",
       "      <td>0.863061</td>\n",
       "      <td>1.000000</td>\n",
       "      <td>0.801809</td>\n",
       "      <td>0.775300</td>\n",
       "    </tr>\n",
       "    <tr>\n",
       "      <th>c-98</th>\n",
       "      <td>0.120323</td>\n",
       "      <td>-0.088916</td>\n",
       "      <td>0.031905</td>\n",
       "      <td>-0.640484</td>\n",
       "      <td>-0.002824</td>\n",
       "      <td>-0.170152</td>\n",
       "      <td>-0.079855</td>\n",
       "      <td>-0.366693</td>\n",
       "      <td>0.179097</td>\n",
       "      <td>-0.084408</td>\n",
       "      <td>...</td>\n",
       "      <td>0.816530</td>\n",
       "      <td>0.818789</td>\n",
       "      <td>0.802289</td>\n",
       "      <td>0.811567</td>\n",
       "      <td>0.824202</td>\n",
       "      <td>0.787529</td>\n",
       "      <td>0.819600</td>\n",
       "      <td>0.801809</td>\n",
       "      <td>1.000000</td>\n",
       "      <td>0.755991</td>\n",
       "    </tr>\n",
       "    <tr>\n",
       "      <th>c-99</th>\n",
       "      <td>0.117060</td>\n",
       "      <td>-0.075736</td>\n",
       "      <td>0.026250</td>\n",
       "      <td>-0.609238</td>\n",
       "      <td>-0.002308</td>\n",
       "      <td>-0.172124</td>\n",
       "      <td>-0.037579</td>\n",
       "      <td>-0.390581</td>\n",
       "      <td>0.192385</td>\n",
       "      <td>-0.079813</td>\n",
       "      <td>...</td>\n",
       "      <td>0.794279</td>\n",
       "      <td>0.784466</td>\n",
       "      <td>0.767997</td>\n",
       "      <td>0.799651</td>\n",
       "      <td>0.827228</td>\n",
       "      <td>0.758110</td>\n",
       "      <td>0.789649</td>\n",
       "      <td>0.775300</td>\n",
       "      <td>0.755991</td>\n",
       "      <td>1.000000</td>\n",
       "    </tr>\n",
       "  </tbody>\n",
       "</table>\n",
       "<p>10 rows × 875 columns</p>\n",
       "</div>"
      ],
      "text/plain": [
       "       cp_type   cp_time   cp_dose       g-0       g-1       g-2       g-3  \\\n",
       "c-90  0.092025 -0.056778  0.021635 -0.648726 -0.034557 -0.183325 -0.091892   \n",
       "c-91  0.084773 -0.053159  0.025650 -0.629025 -0.000934 -0.186048 -0.045385   \n",
       "c-92  0.076649 -0.079995  0.041799 -0.633479 -0.022478 -0.166786 -0.089801   \n",
       "c-93  0.107095 -0.032101  0.029549 -0.668520 -0.034891 -0.190383 -0.089818   \n",
       "c-94  0.104947 -0.064898  0.028690 -0.656116 -0.042638 -0.178312 -0.081073   \n",
       "c-95  0.098305 -0.112583  0.025122 -0.600758 -0.011237 -0.158105 -0.016778   \n",
       "c-96  0.087668 -0.067116  0.026105 -0.646784 -0.022127 -0.182540 -0.083846   \n",
       "c-97  0.092418 -0.067969  0.024246 -0.622840 -0.008487 -0.178812 -0.049951   \n",
       "c-98  0.120323 -0.088916  0.031905 -0.640484 -0.002824 -0.170152 -0.079855   \n",
       "c-99  0.117060 -0.075736  0.026250 -0.609238 -0.002308 -0.172124 -0.037579   \n",
       "\n",
       "           g-4       g-5       g-6  ...      c-90      c-91      c-92  \\\n",
       "c-90 -0.387193  0.210235 -0.084153  ...  1.000000  0.862366  0.868444   \n",
       "c-91 -0.361679  0.171185 -0.073982  ...  0.862366  1.000000  0.823310   \n",
       "c-92 -0.351508  0.207207 -0.078695  ...  0.868444  0.823310  1.000000   \n",
       "c-93 -0.397062  0.192473 -0.083806  ...  0.877901  0.859351  0.846090   \n",
       "c-94 -0.388885  0.211185 -0.065120  ...  0.895854  0.865275  0.883464   \n",
       "c-95 -0.378084  0.202341 -0.082060  ...  0.818838  0.803295  0.793390   \n",
       "c-96 -0.379085  0.194619 -0.079270  ...  0.888795  0.876358  0.867251   \n",
       "c-97 -0.394904  0.193907 -0.095448  ...  0.860923  0.849142  0.836722   \n",
       "c-98 -0.366693  0.179097 -0.084408  ...  0.816530  0.818789  0.802289   \n",
       "c-99 -0.390581  0.192385 -0.079813  ...  0.794279  0.784466  0.767997   \n",
       "\n",
       "          c-93      c-94      c-95      c-96      c-97      c-98      c-99  \n",
       "c-90  0.877901  0.895854  0.818838  0.888795  0.860923  0.816530  0.794279  \n",
       "c-91  0.859351  0.865275  0.803295  0.876358  0.849142  0.818789  0.784466  \n",
       "c-92  0.846090  0.883464  0.793390  0.867251  0.836722  0.802289  0.767997  \n",
       "c-93  1.000000  0.882516  0.787176  0.873935  0.840606  0.811567  0.799651  \n",
       "c-94  0.882516  1.000000  0.819529  0.894631  0.862876  0.824202  0.827228  \n",
       "c-95  0.787176  0.819529  1.000000  0.821950  0.811155  0.787529  0.758110  \n",
       "c-96  0.873935  0.894631  0.821950  1.000000  0.863061  0.819600  0.789649  \n",
       "c-97  0.840606  0.862876  0.811155  0.863061  1.000000  0.801809  0.775300  \n",
       "c-98  0.811567  0.824202  0.787529  0.819600  0.801809  1.000000  0.755991  \n",
       "c-99  0.799651  0.827228  0.758110  0.789649  0.775300  0.755991  1.000000  \n",
       "\n",
       "[10 rows x 875 columns]"
      ]
     },
     "execution_count": 12,
     "metadata": {},
     "output_type": "execute_result"
    }
   ],
   "source": [
    "corrMatrix.tail(10)"
   ]
  },
  {
   "cell_type": "code",
   "execution_count": 13,
   "metadata": {
    "execution": {
     "iopub.execute_input": "2020-11-29T08:49:40.851272Z",
     "iopub.status.busy": "2020-11-29T08:49:40.850346Z",
     "iopub.status.idle": "2020-11-29T08:49:41.077555Z",
     "shell.execute_reply": "2020-11-29T08:49:41.078185Z"
    },
    "papermill": {
     "duration": 0.277857,
     "end_time": "2020-11-29T08:49:41.078334",
     "exception": false,
     "start_time": "2020-11-29T08:49:40.800477",
     "status": "completed"
    },
    "tags": []
   },
   "outputs": [
    {
     "data": {
      "image/png": "[encoded data removed]",
      "text/plain": [
       "<Figure size 432x288 with 1 Axes>"
      ]
     },
     "metadata": {
      "needs_background": "light"
     },
     "output_type": "display_data"
    }
   ],
   "source": [
    "plt.imshow(corrMatrix)\n",
    "plt.show()"
   ]
  },
  {
   "cell_type": "markdown",
   "metadata": {
    "papermill": {
     "duration": 0.048039,
     "end_time": "2020-11-29T08:49:41.173389",
     "exception": false,
     "start_time": "2020-11-29T08:49:41.125350",
     "status": "completed"
    },
    "tags": []
   },
   "source": [
    "Чем ярче цвет, тем ближе к 1, темный цвет - к -1."
   ]
  },
  {
   "cell_type": "code",
   "execution_count": 14,
   "metadata": {
    "execution": {
     "iopub.execute_input": "2020-11-29T08:49:41.303419Z",
     "iopub.status.busy": "2020-11-29T08:49:41.277876Z",
     "iopub.status.idle": "2020-11-29T08:49:42.110925Z",
     "shell.execute_reply": "2020-11-29T08:49:42.111431Z"
    },
    "papermill": {
     "duration": 0.890643,
     "end_time": "2020-11-29T08:49:42.111572",
     "exception": false,
     "start_time": "2020-11-29T08:49:41.220929",
     "status": "completed"
    },
    "tags": []
   },
   "outputs": [
    {
     "data": {
      "image/png": "[encoded data removed]",
      "text/plain": [
       "<Figure size 432x288 with 1 Axes>"
      ]
     },
     "metadata": {
      "needs_background": "light"
     },
     "output_type": "display_data"
    }
   ],
   "source": [
    "plt.imshow(corrMatrix.sort_values(by=list(corrMatrix.columns)))\n",
    "plt.show()"
   ]
  },
  {
   "cell_type": "code",
   "execution_count": null,
   "metadata": {
    "papermill": {
     "duration": 0.048521,
     "end_time": "2020-11-29T08:49:42.214015",
     "exception": false,
     "start_time": "2020-11-29T08:49:42.165494",
     "status": "completed"
    },
    "tags": []
   },
   "outputs": [],
   "source": []
  },
  {
   "cell_type": "markdown",
   "metadata": {
    "papermill": {
     "duration": 0.049368,
     "end_time": "2020-11-29T08:49:42.312261",
     "exception": false,
     "start_time": "2020-11-29T08:49:42.262893",
     "status": "completed"
    },
    "tags": []
   },
   "source": [
    "Первая модель, которая была построена - logreg."
   ]
  },
  {
   "cell_type": "code",
   "execution_count": 15,
   "metadata": {
    "execution": {
     "iopub.execute_input": "2020-11-29T08:49:42.422036Z",
     "iopub.status.busy": "2020-11-29T08:49:42.421165Z",
     "iopub.status.idle": "2020-11-29T08:49:42.423924Z",
     "shell.execute_reply": "2020-11-29T08:49:42.424437Z"
    },
    "papermill": {
     "duration": 0.064114,
     "end_time": "2020-11-29T08:49:42.424612",
     "exception": false,
     "start_time": "2020-11-29T08:49:42.360498",
     "status": "completed"
    },
    "tags": []
   },
   "outputs": [],
   "source": [
    "def mul_lab_logreg(test, train_X, train_y):\n",
    "#   Шаблон для Submission\n",
    "    sub = pd.DataFrame(test['sig_id'])\n",
    "    \n",
    "#   Пройдемся по каждой колонке и обучим одну модель логрег, выдадим pred_proba для колонки шаблона  \n",
    "    col = train_y.columns.drop('sig_id')\n",
    "    train_X.set_index('sig_id', inplace=True)\n",
    "    df = pd.concat([train_X.iloc[:,0],\n",
    "                    train_y.set_index('sig_id')], axis = 1)\n",
    "    for c in tqdm(col):\n",
    "        print(c)\n",
    "        y = df.loc[:, c]\n",
    "        clf = LogisticRegression(random_state=0, \n",
    "                         class_weight='balanced', \n",
    "                         n_jobs=6).fit(train_X, y)\n",
    "\n",
    "        clf.fit(train_X, y)\n",
    "        sub[c] = clf.predict_proba(test.drop('sig_id', axis=1)).T[1]\n",
    "    return sub\n",
    "\n",
    "# probs = mul_lab_logreg(test_features,train_features,train_targets_scored)"
   ]
  },
  {
   "cell_type": "code",
   "execution_count": null,
   "metadata": {
    "papermill": {
     "duration": 0.047864,
     "end_time": "2020-11-29T08:49:42.521221",
     "exception": false,
     "start_time": "2020-11-29T08:49:42.473357",
     "status": "completed"
    },
    "tags": []
   },
   "outputs": [],
   "source": []
  },
  {
   "cell_type": "markdown",
   "metadata": {
    "papermill": {
     "duration": 0.04866,
     "end_time": "2020-11-29T08:49:42.618666",
     "exception": false,
     "start_time": "2020-11-29T08:49:42.570006",
     "status": "completed"
    },
    "tags": []
   },
   "source": [
    "Далее опробован случайный лес."
   ]
  },
  {
   "cell_type": "code",
   "execution_count": 16,
   "metadata": {
    "execution": {
     "iopub.execute_input": "2020-11-29T08:49:42.731956Z",
     "iopub.status.busy": "2020-11-29T08:49:42.731053Z",
     "iopub.status.idle": "2020-11-29T08:49:42.733272Z",
     "shell.execute_reply": "2020-11-29T08:49:42.733858Z"
    },
    "papermill": {
     "duration": 0.066575,
     "end_time": "2020-11-29T08:49:42.733978",
     "exception": false,
     "start_time": "2020-11-29T08:49:42.667403",
     "status": "completed"
    },
    "tags": []
   },
   "outputs": [],
   "source": [
    "def rfc(test, tr_X, train_y, n_estimators=30, criterion='gini', max_depth=15, min_samples_split=2,\n",
    "                                     min_samples_leaf=1, max_samples=400, max_features = None):\n",
    "#   Шаблон для Submission\n",
    "    sub = pd.DataFrame(test['sig_id'])\n",
    "    \n",
    "#   Пройдемся по каждой колонке и обучим одну модель логрег, выдадим pred_proba для колонки шаблона  \n",
    "    col = train_y.columns.drop('sig_id')\n",
    "    train_X = tr_X.set_index('sig_id', inplace=False)\n",
    "    df = pd.concat([train_X.iloc[:,0],\n",
    "                    train_y.set_index('sig_id')], axis = 1)\n",
    "    for c in tqdm(col):\n",
    "        print(c)\n",
    "#         for cv\n",
    "        y = df.loc[:, c]\n",
    "#         if y.sum() <= 2:\n",
    "#             sub[c] = [0 for i in range(y.shape[0])]\n",
    "#             continue\n",
    "#       model\n",
    "        clf = RandomForestClassifier(n_estimators=n_estimators, criterion=criterion, \n",
    "                                     max_depth=max_depth, min_samples_split=min_samples_split, \n",
    "                                     min_samples_leaf=min_samples_leaf, max_samples=max_samples,\n",
    "                                     max_features=max_features,\n",
    "                                     n_jobs=6, random_state=1998, ccp_alpha=0.0)\n",
    "        clf.fit(train_X, y)\n",
    "        print(clf.predict_proba(test.drop('sig_id', axis=1)))\n",
    "        sub[c] = clf.predict_proba(test.drop('sig_id', axis=1)).T[1]\n",
    "    return sub\n",
    "\n",
    "def score(preds, true_y):\n",
    "    log_preds = np.log(preds + 0.00000001)\n",
    "    log_inv_preds = np.log(1 - preds)\n",
    "    total = true_y * log_preds + (1 - true_y) * log_inv_preds\n",
    "    return total.sum().sum() / (preds.shape[0]*preds.shape[1])\n",
    "\n",
    "# probs = rfc(test_features,train_features,train_targets_scored, n_estimators=30, criterion='gini', max_depth=15, min_samples_split=2,\n",
    "#                                      min_samples_leaf=5, max_samples=1000, max_features = 400)"
   ]
  },
  {
   "cell_type": "code",
   "execution_count": 17,
   "metadata": {
    "execution": {
     "iopub.execute_input": "2020-11-29T08:49:42.836503Z",
     "iopub.status.busy": "2020-11-29T08:49:42.835576Z",
     "iopub.status.idle": "2020-11-29T08:49:42.837946Z",
     "shell.execute_reply": "2020-11-29T08:49:42.838411Z"
    },
    "papermill": {
     "duration": 0.055396,
     "end_time": "2020-11-29T08:49:42.838540",
     "exception": false,
     "start_time": "2020-11-29T08:49:42.783144",
     "status": "completed"
    },
    "tags": []
   },
   "outputs": [],
   "source": [
    "# train_X, test_X, train_y, test_y = train_test_split( X, y, test_size=1/7.0, random_state=122)\n",
    "# n_splits = 2\n",
    "# k_fold = KFold(n_splits=n_splits)\n",
    "# cv_list = []\n",
    "# i = 0\n",
    "# for train_indices, test_indices in k_fold.split(train_X):\n",
    "#     X_tr = train_features.loc[train_indices, :]\n",
    "#     y_tr = train_targets_scored.loc[train_indices, :]\n",
    "#     X_test = train_features.loc[test_indices, :]\n",
    "#     y_test = train_targets_scored.loc[test_indices, :].set_index('sig_id')\n",
    "    \n",
    "#     proba = rfc(X_test, X_tr, y_tr, n_estimators=30, criterion='gini',\n",
    "#                 max_depth=15, min_samples_split=5, min_samples_leaf=5, \n",
    "#                 max_samples=1000, max_features = 0.5)\n",
    "#     cv_list.append([proba.set_index('sig_id'), i])\n",
    "#     i+=1"
   ]
  },
  {
   "cell_type": "markdown",
   "metadata": {
    "papermill": {
     "duration": 0.087407,
     "end_time": "2020-11-29T08:49:43.059302",
     "exception": false,
     "start_time": "2020-11-29T08:49:42.971895",
     "status": "completed"
    },
    "tags": []
   },
   "source": [
    "Реализован KNN. (0.04151)"
   ]
  },
  {
   "cell_type": "code",
   "execution_count": 18,
   "metadata": {
    "execution": {
     "iopub.execute_input": "2020-11-29T08:49:43.223927Z",
     "iopub.status.busy": "2020-11-29T08:49:43.223022Z",
     "iopub.status.idle": "2020-11-29T08:49:43.242570Z",
     "shell.execute_reply": "2020-11-29T08:49:43.243290Z"
    },
    "papermill": {
     "duration": 0.109579,
     "end_time": "2020-11-29T08:49:43.243475",
     "exception": false,
     "start_time": "2020-11-29T08:49:43.133896",
     "status": "completed"
    },
    "tags": []
   },
   "outputs": [],
   "source": [
    "class KNN():\n",
    "    def __init__(self, n_samples=None, n_features=None):\n",
    "        super().__init__()\n",
    "        self.X_train = None\n",
    "        self.X_test = None\n",
    "        self.y_train = None\n",
    "        self.n_samples = n_samples\n",
    "        self.n_features = n_features\n",
    "        self.preds = None\n",
    "        \n",
    "    def fit(self, X_train, X_test, y_train, k, n_batches = 500):\n",
    "        self.X_train = X_train.set_index('sig_id').to_numpy()\n",
    "        preds_ind = X_test.index\n",
    "        self.X_test = X_test.set_index('sig_id').to_numpy()\n",
    "        preds_col = y_train.columns.drop('sig_id')\n",
    "        self.y_train = y_train.set_index('sig_id').to_numpy()\n",
    "#       Разбиваем выборку для того, чтобы избежать переполнения памяти\n",
    "        batches = np.array_split(self.X_test, n_batches)\n",
    "#       Тут будем сохранять для кааждого объекта из теста вероятность для каждого класса\n",
    "        preds_arr = np.zeros((1, preds_col.shape[0]))\n",
    "#       Проходим по батчам и находим сначала индексы ближайших, а потом средние. Если n_samples != total,\n",
    "#       то будем брать для подсчета только часть выборки\n",
    "        for batch in tqdm(batches):\n",
    "            if self.n_samples:\n",
    "                b_ind = np.random.choice(X_train.shape[0], self.n_samples)\n",
    "                X_tr = self.X_train[b_ind]\n",
    "                y_tr = self.y_train[b_ind]\n",
    "            else:\n",
    "                X_tr = self.X_train\n",
    "                y_tr = self.y_train\n",
    "#           Найдем индексы ближайших\n",
    "            d = self.dist(X_tr, batch, k = k)\n",
    "#           Для каждого наблюдения из батча составим предсказание по каждому классу\n",
    "            for ind in d:\n",
    "#                 preds = y_tr[ind].mean(axis=0).reshape(1, preds_col.shape[0])\n",
    "                preds = np.average(y_tr[ind], axis=0, weights=[1/i for i in range(1, 1 + y_tr[ind].shape[0])]).reshape(1, preds_col.shape[0])\n",
    "                preds_arr = np.concatenate((preds_arr, preds))\n",
    "            \n",
    "        self.preds = pd.DataFrame(data = preds_arr[1:], index=preds_ind, columns=preds_col)\n",
    "        \n",
    "\n",
    "    def dist(self, A, B, k=100):\n",
    "        '''\n",
    "        Считаем попарные расстояния между элементами матрицы А и В\n",
    "        Возвращает для каждого элемента из В индексы k элементов из A наиболее близких к B\n",
    "        Лист размера 'количество наблюдений в В * k'\n",
    "        '''\n",
    "        a = A.reshape(A.shape[0], 1, A.shape[1])\n",
    "        b = B.reshape(1, B.shape[0], B.shape[1])\n",
    "        d = ((a - b) ** 2).sum(axis = 2) ** 0.5\n",
    "        list_ind = []\n",
    "        for arr in d.T:\n",
    "            ind = np.argpartition(arr, k)[:k]\n",
    "            list_ind.append(ind)\n",
    "        return list_ind\n",
    "    \n",
    "    def loss(self, preds, target):\n",
    "        log_preds = preds.apply(lambda x: np.log(x + 0.000001))\n",
    "        log_inv_preds =   preds.apply(lambda x: np.log(1 - x - 0.000001))\n",
    "        total = target * log_preds + (1 - target) * log_inv_preds\n",
    "        loss = - total.sum().sum() / (target.shape[0]*target.shape[1])\n",
    "        return loss\n"
   ]
  },
  {
   "cell_type": "code",
   "execution_count": 19,
   "metadata": {
    "execution": {
     "iopub.execute_input": "2020-11-29T08:49:43.400280Z",
     "iopub.status.busy": "2020-11-29T08:49:43.399315Z",
     "iopub.status.idle": "2020-11-29T08:49:43.611647Z",
     "shell.execute_reply": "2020-11-29T08:49:43.612888Z"
    },
    "papermill": {
     "duration": 0.293863,
     "end_time": "2020-11-29T08:49:43.613085",
     "exception": false,
     "start_time": "2020-11-29T08:49:43.319222",
     "status": "completed"
    },
    "tags": []
   },
   "outputs": [],
   "source": [
    "train_X, test_X, train_y, test_y = train_test_split( train_features, train_targets_scored, test_size=1/7.0, random_state=122)"
   ]
  },
  {
   "cell_type": "code",
   "execution_count": 20,
   "metadata": {
    "execution": {
     "iopub.execute_input": "2020-11-29T08:49:43.746815Z",
     "iopub.status.busy": "2020-11-29T08:49:43.745849Z",
     "iopub.status.idle": "2020-11-29T08:49:43.748248Z",
     "shell.execute_reply": "2020-11-29T08:49:43.748714Z"
    },
    "papermill": {
     "duration": 0.05966,
     "end_time": "2020-11-29T08:49:43.748850",
     "exception": false,
     "start_time": "2020-11-29T08:49:43.689190",
     "status": "completed"
    },
    "tags": []
   },
   "outputs": [],
   "source": [
    "# loss_list = np.array([[0,0]])\n",
    "# for i in range(100, 1000, 100):\n",
    "#     knn = KNN(n_samples= 5000)\n",
    "#     knn.fit(train_X, test_X, train_y, i)\n",
    "#     loss_list = np.append(loss_list_3, [[knn.loss(knn.preds, test_y.drop('sig_id', axis = 1)), i]], axis=0)\n",
    "#     print(knn.loss(knn.preds, test_y.drop('sig_id', axis = 1)))"
   ]
  },
  {
   "cell_type": "code",
   "execution_count": 21,
   "metadata": {
    "execution": {
     "iopub.execute_input": "2020-11-29T08:49:43.852127Z",
     "iopub.status.busy": "2020-11-29T08:49:43.851294Z",
     "iopub.status.idle": "2020-11-29T08:49:43.854260Z",
     "shell.execute_reply": "2020-11-29T08:49:43.853801Z"
    },
    "papermill": {
     "duration": 0.055471,
     "end_time": "2020-11-29T08:49:43.854359",
     "exception": false,
     "start_time": "2020-11-29T08:49:43.798888",
     "status": "completed"
    },
    "tags": []
   },
   "outputs": [],
   "source": [
    "# plt.scatter(loss_list[1:].T[1], loss_list[1:].T[0])\n",
    "# plt.show()"
   ]
  },
  {
   "cell_type": "code",
   "execution_count": 22,
   "metadata": {
    "execution": {
     "iopub.execute_input": "2020-11-29T08:49:43.985252Z",
     "iopub.status.busy": "2020-11-29T08:49:43.984184Z",
     "iopub.status.idle": "2020-11-29T08:49:43.988810Z",
     "shell.execute_reply": "2020-11-29T08:49:43.988276Z"
    },
    "papermill": {
     "duration": 0.084592,
     "end_time": "2020-11-29T08:49:43.988952",
     "exception": false,
     "start_time": "2020-11-29T08:49:43.904360",
     "status": "completed"
    },
    "tags": []
   },
   "outputs": [],
   "source": [
    "# probs = rfc(test_features,train_features,train_targets_scored)"
   ]
  },
  {
   "cell_type": "code",
   "execution_count": 23,
   "metadata": {
    "execution": {
     "iopub.execute_input": "2020-11-29T08:49:44.110819Z",
     "iopub.status.busy": "2020-11-29T08:49:44.109803Z",
     "iopub.status.idle": "2020-11-29T08:49:44.112739Z",
     "shell.execute_reply": "2020-11-29T08:49:44.112257Z"
    },
    "papermill": {
     "duration": 0.063311,
     "end_time": "2020-11-29T08:49:44.112848",
     "exception": false,
     "start_time": "2020-11-29T08:49:44.049537",
     "status": "completed"
    },
    "tags": []
   },
   "outputs": [],
   "source": [
    "def cv(n_splits, data_X, data_y):\n",
    "    kfold = KFold(n_splits=n_splits)\n",
    "#     batches = np.array_split(X_test, n_batches)\n",
    "    loss = []\n",
    "    k_0 = 50\n",
    "    n_b_0 = 500\n",
    "    for train_index, test_index in kfold.split(data_X):\n",
    "        X_train, X_test = data_X.loc[train_index], data_X.loc[test_index]\n",
    "        y_train, y_test = data_y.loc[train_index], data_y.loc[test_index]\n",
    "        knn = KNN()\n",
    "        knn.fit(train_features, test_features, train_targets_scored, k_0, n_batches=n_b_0)\n",
    "        loss.append([knn.loss(knn.preds, y_test.drop('sig_id', axis=1)), k_0,  n_b_0]) #Возможно нужно убрать sig_id\n",
    "        k_0 += 10\n",
    "#         n_b_0 += 50\n",
    "    return loss"
   ]
  },
  {
   "cell_type": "code",
   "execution_count": 24,
   "metadata": {
    "execution": {
     "iopub.execute_input": "2020-11-29T08:49:44.218484Z",
     "iopub.status.busy": "2020-11-29T08:49:44.217628Z",
     "iopub.status.idle": "2020-11-29T08:49:44.220046Z",
     "shell.execute_reply": "2020-11-29T08:49:44.220604Z"
    },
    "papermill": {
     "duration": 0.057293,
     "end_time": "2020-11-29T08:49:44.220745",
     "exception": false,
     "start_time": "2020-11-29T08:49:44.163452",
     "status": "completed"
    },
    "tags": []
   },
   "outputs": [],
   "source": [
    "# loss_list = cv(3, train_features, train_targets_scored)"
   ]
  },
  {
   "cell_type": "markdown",
   "metadata": {
    "papermill": {
     "duration": 0.050111,
     "end_time": "2020-11-29T08:49:44.322354",
     "exception": false,
     "start_time": "2020-11-29T08:49:44.272243",
     "status": "completed"
    },
    "tags": []
   },
   "source": [
    "К сожалению, все попытки оказались тщетны и простое среднее дало результат выше. (0.02398)"
   ]
  },
  {
   "cell_type": "code",
   "execution_count": 25,
   "metadata": {
    "execution": {
     "iopub.execute_input": "2020-11-29T08:49:44.429549Z",
     "iopub.status.busy": "2020-11-29T08:49:44.427802Z",
     "iopub.status.idle": "2020-11-29T08:49:44.430201Z",
     "shell.execute_reply": "2020-11-29T08:49:44.430667Z"
    },
    "papermill": {
     "duration": 0.05887,
     "end_time": "2020-11-29T08:49:44.430802",
     "exception": false,
     "start_time": "2020-11-29T08:49:44.371932",
     "status": "completed"
    },
    "tags": []
   },
   "outputs": [],
   "source": [
    "# means = train_targets_scored.mean()\n",
    "# zero_data = np.zeros(shape=(test_features.shape[0],means.shape[0]))\n",
    "# preds = pd.DataFrame(zero_data, columns=means.index)\n",
    "\n",
    "# for col in means.index:\n",
    "#     preds[[col]] = means[col]\n",
    "\n",
    "# pd.concat([test_features[['sig_id']], preds], axis=1)"
   ]
  },
  {
   "cell_type": "markdown",
   "metadata": {
    "papermill": {
     "duration": 0.051687,
     "end_time": "2020-11-29T08:49:44.532065",
     "exception": false,
     "start_time": "2020-11-29T08:49:44.480378",
     "status": "completed"
    },
    "tags": []
   },
   "source": [
    "Потом стало понятно, что не обойдется без нейронки.\n",
    "Первый вариант, который дал результат лучше среднего (0.02090) на 72 эпохах.\n",
    "Второй вариант, на 10 эпохах (0.02010) \n",
    "Третий, на 105 эпохах (0.01976)"
   ]
  },
  {
   "cell_type": "code",
   "execution_count": 26,
   "metadata": {
    "execution": {
     "iopub.execute_input": "2020-11-29T08:49:44.641421Z",
     "iopub.status.busy": "2020-11-29T08:49:44.640796Z",
     "iopub.status.idle": "2020-11-29T08:49:46.252961Z",
     "shell.execute_reply": "2020-11-29T08:49:46.252075Z"
    },
    "papermill": {
     "duration": 1.66801,
     "end_time": "2020-11-29T08:49:46.253088",
     "exception": false,
     "start_time": "2020-11-29T08:49:44.585078",
     "status": "completed"
    },
    "tags": []
   },
   "outputs": [],
   "source": [
    "from tqdm import tqdm_notebook\n",
    "import time\n",
    "import os\n",
    "import itertools\n",
    "import copy\n",
    "\n",
    "import torch\n",
    "import torch.nn as nn\n",
    "import torch.optim as optim\n",
    "import torch.nn.functional as F\n",
    "from torch.utils.data import DataLoader"
   ]
  },
  {
   "cell_type": "code",
   "execution_count": 27,
   "metadata": {
    "execution": {
     "iopub.execute_input": "2020-11-29T08:49:46.369902Z",
     "iopub.status.busy": "2020-11-29T08:49:46.369216Z",
     "iopub.status.idle": "2020-11-29T08:49:46.617909Z",
     "shell.execute_reply": "2020-11-29T08:49:46.616836Z"
    },
    "papermill": {
     "duration": 0.313617,
     "end_time": "2020-11-29T08:49:46.618035",
     "exception": false,
     "start_time": "2020-11-29T08:49:46.304418",
     "status": "completed"
    },
    "tags": []
   },
   "outputs": [],
   "source": [
    "X_train, X_test, y_train, y_test = train_test_split(train_features.set_index('sig_id'),\n",
    "                                                    train_targets_scored.set_index('sig_id'), random_state=0)"
   ]
  },
  {
   "cell_type": "code",
   "execution_count": 28,
   "metadata": {
    "execution": {
     "iopub.execute_input": "2020-11-29T08:49:46.728205Z",
     "iopub.status.busy": "2020-11-29T08:49:46.726964Z",
     "iopub.status.idle": "2020-11-29T08:49:46.865831Z",
     "shell.execute_reply": "2020-11-29T08:49:46.865224Z"
    },
    "papermill": {
     "duration": 0.197466,
     "end_time": "2020-11-29T08:49:46.865946",
     "exception": false,
     "start_time": "2020-11-29T08:49:46.668480",
     "status": "completed"
    },
    "tags": []
   },
   "outputs": [],
   "source": [
    "X_train = torch.from_numpy(X_train.to_numpy()).type(torch.FloatTensor)\n",
    "y_train = torch.from_numpy(y_train.to_numpy()).type(torch.LongTensor)\n",
    "X_test = torch.from_numpy(X_test.to_numpy()).type(torch.FloatTensor)\n",
    "y_test = torch.from_numpy(y_test.to_numpy()).type(torch.LongTensor)"
   ]
  },
  {
   "cell_type": "code",
   "execution_count": 29,
   "metadata": {
    "execution": {
     "iopub.execute_input": "2020-11-29T08:49:46.977729Z",
     "iopub.status.busy": "2020-11-29T08:49:46.977082Z",
     "iopub.status.idle": "2020-11-29T08:49:46.981864Z",
     "shell.execute_reply": "2020-11-29T08:49:46.981351Z"
    },
    "papermill": {
     "duration": 0.065094,
     "end_time": "2020-11-29T08:49:46.981976",
     "exception": false,
     "start_time": "2020-11-29T08:49:46.916882",
     "status": "completed"
    },
    "tags": []
   },
   "outputs": [],
   "source": [
    "BATCH_SIZE = 150\n",
    "train_iterator = DataLoader(torch.utils.data.TensorDataset(X_train, y_train),\n",
    "                            batch_size=BATCH_SIZE, shuffle=True)\n",
    "val_iterator = DataLoader(torch.utils.data.TensorDataset(X_test, y_test),\n",
    "                          batch_size=BATCH_SIZE, shuffle=True)   "
   ]
  },
  {
   "cell_type": "code",
   "execution_count": 30,
   "metadata": {
    "execution": {
     "iopub.execute_input": "2020-11-29T08:49:47.093397Z",
     "iopub.status.busy": "2020-11-29T08:49:47.091644Z",
     "iopub.status.idle": "2020-11-29T08:49:47.094051Z",
     "shell.execute_reply": "2020-11-29T08:49:47.094508Z"
    },
    "papermill": {
     "duration": 0.060355,
     "end_time": "2020-11-29T08:49:47.094626",
     "exception": false,
     "start_time": "2020-11-29T08:49:47.034271",
     "status": "completed"
    },
    "tags": []
   },
   "outputs": [],
   "source": [
    "TRAIN_BATCHES_LEN, VAL_BATCHES_LEN = int(np.floor(X_train.shape[0]/BATCH_SIZE)), int(np.floor(X_test.shape[0]/BATCH_SIZE))"
   ]
  },
  {
   "cell_type": "markdown",
   "metadata": {
    "papermill": {
     "duration": 0.061989,
     "end_time": "2020-11-29T08:49:47.208551",
     "exception": false,
     "start_time": "2020-11-29T08:49:47.146562",
     "status": "completed"
    },
    "tags": []
   },
   "source": [
    "№ 1"
   ]
  },
  {
   "cell_type": "code",
   "execution_count": 31,
   "metadata": {
    "execution": {
     "iopub.execute_input": "2020-11-29T08:49:47.327273Z",
     "iopub.status.busy": "2020-11-29T08:49:47.325470Z",
     "iopub.status.idle": "2020-11-29T08:49:47.327936Z",
     "shell.execute_reply": "2020-11-29T08:49:47.328429Z"
    },
    "papermill": {
     "duration": 0.068008,
     "end_time": "2020-11-29T08:49:47.328554",
     "exception": false,
     "start_time": "2020-11-29T08:49:47.260546",
     "status": "completed"
    },
    "tags": []
   },
   "outputs": [],
   "source": [
    "class MY(nn.Module):\n",
    "    def __init__(self, in_ch, out_ch, num_blocks):\n",
    "        super().__init__()\n",
    "        self.num_blocks = num_blocks\n",
    "        self.in_channels = in_ch\n",
    "        self.out_channels = out_ch\n",
    "        for i in range(num_blocks):\n",
    "            self.in_channels = self.in_channels + 100 * i\n",
    "            out_channels = self.in_channels + 100 * (i + 1)\n",
    "            self.add_module(f\"b_n{i + 1}\", nn.BatchNorm1d(self.in_channels))\n",
    "            self.add_module(f\"linear{i + 1}\", nn.Linear(self.in_channels, out_channels))\n",
    "            self.add_module(f\"relu{i + 1}\", nn.ReLU(out_channels))\n",
    "        self.add_module(f\"linear{i + 2}\", nn.Linear(out_channels, self.out_channels))\n",
    "        self.add_module(f\"b_n{i + 2}\", nn.BatchNorm1d(self.out_channels))\n",
    "        self.add_module(f\"sigm\", nn.Sigmoid())\n",
    "\n",
    "    def forward(self, x):\n",
    "        for i in range(self.num_blocks):\n",
    "            x = self.__getattr__(f\"b_n{i + 1}\")(x)\n",
    "            x = self.__getattr__(f\"linear{i + 1}\")(x)\n",
    "            x = self.__getattr__(f'relu{i + 1}')(x)\n",
    "        x = self.__getattr__(f\"linear{i + 2}\")(x)\n",
    "        x = self.__getattr__(f\"b_n{i + 2}\")(x)\n",
    "        x = self.__getattr__(f\"sigm\")(x)\n",
    "        return x"
   ]
  },
  {
   "cell_type": "markdown",
   "metadata": {
    "papermill": {
     "duration": 0.051059,
     "end_time": "2020-11-29T08:49:47.431635",
     "exception": false,
     "start_time": "2020-11-29T08:49:47.380576",
     "status": "completed"
    },
    "tags": []
   },
   "source": [
    "№ 2 "
   ]
  },
  {
   "cell_type": "code",
   "execution_count": 32,
   "metadata": {
    "execution": {
     "iopub.execute_input": "2020-11-29T08:49:47.579934Z",
     "iopub.status.busy": "2020-11-29T08:49:47.578943Z",
     "iopub.status.idle": "2020-11-29T08:49:47.588399Z",
     "shell.execute_reply": "2020-11-29T08:49:47.589616Z"
    },
    "papermill": {
     "duration": 0.103188,
     "end_time": "2020-11-29T08:49:47.589820",
     "exception": false,
     "start_time": "2020-11-29T08:49:47.486632",
     "status": "completed"
    },
    "tags": []
   },
   "outputs": [],
   "source": [
    "class MY_2(nn.Module):\n",
    "    def __init__(self, in_ch, out_ch, num_blocks):\n",
    "        super().__init__()\n",
    "        self.num_blocks = num_blocks\n",
    "        self.in_channels = in_ch\n",
    "        self.out_channels = out_ch\n",
    "        for i in range(num_blocks):\n",
    "            self.in_channels = self.in_channels if i==0 else 2**10\n",
    "            out_channels = 2 ** 10 \n",
    "            self.add_module(f\"b_n{i + 1}\", nn.BatchNorm1d(self.in_channels))\n",
    "            self.add_module(f'dropout{i+1}',nn.Dropout(0.4))\n",
    "            self.add_module(f\"linear{i + 1}\", nn.Linear(self.in_channels, out_channels))\n",
    "            self.add_module(f\"relu{i + 1}\", nn.ReLU(out_channels))\n",
    "        self.add_module(f\"linear{i + 2}\", nn.Linear(out_channels, self.out_channels))\n",
    "        self.add_module(f\"b_n{i + 2}\", nn.BatchNorm1d(self.out_channels))\n",
    "        self.add_module(f\"sigm\", nn.Sigmoid())\n",
    "\n",
    "    def forward(self, x):\n",
    "        for i in range(self.num_blocks):\n",
    "            x = self.__getattr__(f\"b_n{i + 1}\")(x)\n",
    "            x = self.__getattr__(f'dropout{i+1}')(x)\n",
    "            x = self.__getattr__(f\"linear{i + 1}\")(x)\n",
    "            x = self.__getattr__(f'relu{i + 1}')(x)\n",
    "        x = self.__getattr__(f\"linear{i + 2}\")(x)\n",
    "        x = self.__getattr__(f\"b_n{i + 2}\")(x)\n",
    "        x = self.__getattr__(f\"sigm\")(x)\n",
    "        return x"
   ]
  },
  {
   "cell_type": "markdown",
   "metadata": {
    "papermill": {
     "duration": 0.07826,
     "end_time": "2020-11-29T08:49:47.747155",
     "exception": false,
     "start_time": "2020-11-29T08:49:47.668895",
     "status": "completed"
    },
    "tags": []
   },
   "source": [
    "№ 3"
   ]
  },
  {
   "cell_type": "code",
   "execution_count": 33,
   "metadata": {
    "execution": {
     "iopub.execute_input": "2020-11-29T08:49:47.918682Z",
     "iopub.status.busy": "2020-11-29T08:49:47.917736Z",
     "iopub.status.idle": "2020-11-29T08:49:47.931742Z",
     "shell.execute_reply": "2020-11-29T08:49:47.932856Z"
    },
    "papermill": {
     "duration": 0.104568,
     "end_time": "2020-11-29T08:49:47.933040",
     "exception": false,
     "start_time": "2020-11-29T08:49:47.828472",
     "status": "completed"
    },
    "tags": []
   },
   "outputs": [],
   "source": [
    "class MY_3(nn.Module):\n",
    "    def __init__(self, in_ch, out_ch, num_blocks):\n",
    "        super().__init__()\n",
    "        self.num_blocks = num_blocks\n",
    "        self.in_channels = in_ch\n",
    "        self.out_channels = out_ch\n",
    "        for i in range(num_blocks):\n",
    "            self.in_channels = self.in_channels if i==0 else 2**(5+i-1)\n",
    "            out_channels = 2 ** (5+i) \n",
    "            self.add_module(f\"b_n{i + 1}\", nn.BatchNorm1d(self.in_channels))\n",
    "            self.add_module(f'dropout{i+1}',nn.Dropout(0.3))\n",
    "            self.add_module(f\"linear{i + 1}\", nn.utils.weight_norm(nn.Linear(self.in_channels, out_channels)))\n",
    "            self.add_module(f\"relu{i + 1}\", nn.ReLU(out_channels))\n",
    "        self.add_module(f\"b_n{i + 2}\", nn.BatchNorm1d(out_channels))\n",
    "        self.add_module(f'dropout{i+2}',nn.Dropout(0.2))\n",
    "        self.add_module(f\"linear{i + 2}\", nn.utils.weight_norm(nn.Linear(out_channels, self.out_channels)))\n",
    "        self.add_module(f\"sigm\", nn.Sigmoid())\n",
    "\n",
    "    def forward(self, x):\n",
    "        for i in range(self.num_blocks):\n",
    "            x = self.__getattr__(f\"b_n{i + 1}\")(x)\n",
    "            x = self.__getattr__(f'dropout{i+1}')(x)\n",
    "            x = self.__getattr__(f\"linear{i + 1}\")(x)\n",
    "            x = self.__getattr__(f'relu{i + 1}')(x)\n",
    "        x = self.__getattr__(f\"b_n{i + 2}\")(x)\n",
    "        x = self.__getattr__(f\"linear{i + 2}\")(x)\n",
    "        x = self.__getattr__(f\"sigm\")(x)\n",
    "        return x"
   ]
  },
  {
   "cell_type": "code",
   "execution_count": 34,
   "metadata": {
    "execution": {
     "iopub.execute_input": "2020-11-29T08:49:48.104131Z",
     "iopub.status.busy": "2020-11-29T08:49:48.102939Z",
     "iopub.status.idle": "2020-11-29T08:49:52.738258Z",
     "shell.execute_reply": "2020-11-29T08:49:52.737261Z"
    },
    "papermill": {
     "duration": 4.719239,
     "end_time": "2020-11-29T08:49:52.738380",
     "exception": false,
     "start_time": "2020-11-29T08:49:48.019141",
     "status": "completed"
    },
    "tags": []
   },
   "outputs": [],
   "source": [
    "model =  MY(X_train.shape[1], y_train.shape[1], 6)\n",
    "criterion = nn.BCELoss()\n",
    "DEVICE = 'cuda'\n",
    "model.cuda()\n",
    "criterion.cuda()\n",
    "opt = optim.Adam(params=model.parameters(), lr=1e-3)"
   ]
  },
  {
   "cell_type": "code",
   "execution_count": 35,
   "metadata": {
    "execution": {
     "iopub.execute_input": "2020-11-29T08:49:52.860315Z",
     "iopub.status.busy": "2020-11-29T08:49:52.859521Z",
     "iopub.status.idle": "2020-11-29T08:49:55.154736Z",
     "shell.execute_reply": "2020-11-29T08:49:55.153860Z"
    },
    "papermill": {
     "duration": 2.363814,
     "end_time": "2020-11-29T08:49:55.154863",
     "exception": false,
     "start_time": "2020-11-29T08:49:52.791049",
     "status": "completed"
    },
    "tags": []
   },
   "outputs": [
    {
     "ename": "NameError",
     "evalue": "name 'train_loss' is not defined",
     "output_type": "error",
     "traceback": [
      "\u001b[0;31m---------------------------------------------------------------------------\u001b[0m",
      "\u001b[0;31mNameError\u001b[0m                                 Traceback (most recent call last)",
      "\u001b[0;32m<ipython-input-35-b69449a95d36>\u001b[0m in \u001b[0;36m<module>\u001b[0;34m\u001b[0m\n\u001b[1;32m     18\u001b[0m         \u001b[0mopt\u001b[0m\u001b[0;34m.\u001b[0m\u001b[0mstep\u001b[0m\u001b[0;34m(\u001b[0m\u001b[0;34m)\u001b[0m\u001b[0;34m\u001b[0m\u001b[0;34m\u001b[0m\u001b[0m\n\u001b[1;32m     19\u001b[0m         \u001b[0mcurrent_loss\u001b[0m \u001b[0;34m+=\u001b[0m \u001b[0mloss\u001b[0m\u001b[0;34m.\u001b[0m\u001b[0mitem\u001b[0m\u001b[0;34m(\u001b[0m\u001b[0;34m)\u001b[0m\u001b[0;34m/\u001b[0m\u001b[0mTRAIN_BATCHES_LEN\u001b[0m\u001b[0;34m\u001b[0m\u001b[0;34m\u001b[0m\u001b[0m\n\u001b[0;32m---> 20\u001b[0;31m     \u001b[0mtrain_loss\u001b[0m\u001b[0;34m.\u001b[0m\u001b[0mappend\u001b[0m\u001b[0;34m(\u001b[0m\u001b[0mcurrent_loss\u001b[0m\u001b[0;34m)\u001b[0m\u001b[0;34m\u001b[0m\u001b[0;34m\u001b[0m\u001b[0m\n\u001b[0m\u001b[1;32m     21\u001b[0m \u001b[0;34m\u001b[0m\u001b[0m\n\u001b[1;32m     22\u001b[0m     \u001b[0mmodel\u001b[0m\u001b[0;34m.\u001b[0m\u001b[0meval\u001b[0m\u001b[0;34m(\u001b[0m\u001b[0;34m)\u001b[0m\u001b[0;34m\u001b[0m\u001b[0;34m\u001b[0m\u001b[0m\n",
      "\u001b[0;31mNameError\u001b[0m: name 'train_loss' is not defined"
     ]
    }
   ],
   "source": [
    "EPOCHS = 100\n",
    "# 100\n",
    "# train_loss = []\n",
    "# val_loss = []\n",
    "for epoch in range(1, EPOCHS + 1):\n",
    "    st = time.perf_counter()\n",
    "    model.to(DEVICE)\n",
    "    current_loss = 0\n",
    "    model.train()\n",
    "    for batch in train_iterator:\n",
    "        opt.zero_grad()\n",
    "        x, y = batch[:-1][0].cuda(), batch[-1].type(torch.FloatTensor).cuda()\n",
    "        y_pred = model(x).type(torch.FloatTensor).cuda()\n",
    "#         print(y)\n",
    "#         print(y_pred)\n",
    "        loss = criterion(y_pred, y)\n",
    "        loss.backward()\n",
    "        opt.step()\n",
    "        current_loss += loss.item()/TRAIN_BATCHES_LEN\n",
    "    train_loss.append(current_loss)\n",
    "    \n",
    "    model.eval()\n",
    "    with torch.no_grad():\n",
    "        current_loss = 0\n",
    "        for batch in val_iterator:\n",
    "            x, y = batch[:-1][0].cuda(), batch[-1].type(torch.FloatTensor).cuda()\n",
    "            y_pred = model(x)\n",
    "            loss = criterion(y_pred, y)\n",
    "            current_loss += loss.item()/VAL_BATCHES_LEN\n",
    "        val_loss.append(current_loss)\n",
    "    \n",
    "#     torch.save(model.cpu().state_dict(), 'epoch{}'.format(epoch))\n",
    "    \n",
    "    print('Epoch: {}'.format(epoch), 'train loss: {:.5f}'.format(train_loss[-1]), \n",
    "         'val loss: {:.5f}'.format(val_loss[-1]), 'Time: {}'.format(time.perf_counter() - st))"
   ]
  },
  {
   "cell_type": "code",
   "execution_count": 36,
   "metadata": {
    "execution": {
     "iopub.execute_input": "2020-11-29T08:49:55.276761Z",
     "iopub.status.busy": "2020-11-29T08:49:55.274052Z",
     "iopub.status.idle": "2020-11-29T08:49:55.280598Z",
     "shell.execute_reply": "2020-11-29T08:49:55.281124Z"
    },
    "papermill": {
     "duration": 0.073531,
     "end_time": "2020-11-29T08:49:55.281269",
     "exception": false,
     "start_time": "2020-11-29T08:49:55.207738",
     "status": "completed"
    },
    "tags": []
   },
   "outputs": [
    {
     "ename": "NameError",
     "evalue": "name 'train_loss' is not defined",
     "output_type": "error",
     "traceback": [
      "\u001b[0;31m---------------------------------------------------------------------------\u001b[0m",
      "\u001b[0;31mNameError\u001b[0m                                 Traceback (most recent call last)",
      "\u001b[0;32m<ipython-input-36-dd096b2dac52>\u001b[0m in \u001b[0;36m<module>\u001b[0;34m\u001b[0m\n\u001b[0;32m----> 1\u001b[0;31m \u001b[0mplt\u001b[0m\u001b[0;34m.\u001b[0m\u001b[0mplot\u001b[0m\u001b[0;34m(\u001b[0m\u001b[0mtrain_loss\u001b[0m\u001b[0;34m[\u001b[0m\u001b[0;34m-\u001b[0m\u001b[0;36m15\u001b[0m\u001b[0;34m:\u001b[0m\u001b[0;34m]\u001b[0m\u001b[0;34m,\u001b[0m \u001b[0mlabel\u001b[0m\u001b[0;34m=\u001b[0m\u001b[0;34m'train loss'\u001b[0m\u001b[0;34m)\u001b[0m\u001b[0;34m\u001b[0m\u001b[0;34m\u001b[0m\u001b[0m\n\u001b[0m\u001b[1;32m      2\u001b[0m \u001b[0mplt\u001b[0m\u001b[0;34m.\u001b[0m\u001b[0mplot\u001b[0m\u001b[0;34m(\u001b[0m\u001b[0mval_loss\u001b[0m\u001b[0;34m[\u001b[0m\u001b[0;34m-\u001b[0m\u001b[0;36m15\u001b[0m\u001b[0;34m:\u001b[0m\u001b[0;34m]\u001b[0m\u001b[0;34m,\u001b[0m \u001b[0mlabel\u001b[0m\u001b[0;34m=\u001b[0m\u001b[0;34m'validation loss'\u001b[0m\u001b[0;34m)\u001b[0m\u001b[0;34m\u001b[0m\u001b[0;34m\u001b[0m\u001b[0m\n\u001b[1;32m      3\u001b[0m \u001b[0mplt\u001b[0m\u001b[0;34m.\u001b[0m\u001b[0mlegend\u001b[0m\u001b[0;34m(\u001b[0m\u001b[0mfontsize\u001b[0m\u001b[0;34m=\u001b[0m\u001b[0;36m15\u001b[0m\u001b[0;34m)\u001b[0m\u001b[0;34m\u001b[0m\u001b[0;34m\u001b[0m\u001b[0m\n\u001b[1;32m      4\u001b[0m \u001b[0mplt\u001b[0m\u001b[0;34m.\u001b[0m\u001b[0mshow\u001b[0m\u001b[0;34m(\u001b[0m\u001b[0;34m)\u001b[0m\u001b[0;34m\u001b[0m\u001b[0;34m\u001b[0m\u001b[0m\n",
      "\u001b[0;31mNameError\u001b[0m: name 'train_loss' is not defined"
     ]
    }
   ],
   "source": [
    "plt.plot(train_loss[-15:], label='train loss')\n",
    "plt.plot(val_loss[-15:], label='validation loss')\n",
    "plt.legend(fontsize=15)\n",
    "plt.show()"
   ]
  },
  {
   "cell_type": "code",
   "execution_count": 37,
   "metadata": {
    "execution": {
     "iopub.execute_input": "2020-11-29T08:49:55.418957Z",
     "iopub.status.busy": "2020-11-29T08:49:55.417816Z",
     "iopub.status.idle": "2020-11-29T08:49:55.493059Z",
     "shell.execute_reply": "2020-11-29T08:49:55.491273Z"
    },
    "papermill": {
     "duration": 0.158874,
     "end_time": "2020-11-29T08:49:55.493248",
     "exception": false,
     "start_time": "2020-11-29T08:49:55.334374",
     "status": "completed"
    },
    "tags": []
   },
   "outputs": [],
   "source": [
    "with torch.no_grad():\n",
    "    probs = model(torch.from_numpy(test_features.set_index('sig_id').to_numpy()).type(torch.FloatTensor).cuda()).cpu().numpy()\n",
    "    pred_1 = pd.concat([test_features[['sig_id']], pd.DataFrame(probs, columns = train_targets_scored.columns.drop('sig_id'))], axis=1)\n"
   ]
  },
  {
   "cell_type": "code",
   "execution_count": 38,
   "metadata": {
    "execution": {
     "iopub.execute_input": "2020-11-29T08:49:55.697620Z",
     "iopub.status.busy": "2020-11-29T08:49:55.696778Z",
     "iopub.status.idle": "2020-11-29T08:49:55.827382Z",
     "shell.execute_reply": "2020-11-29T08:49:55.828483Z"
    },
    "papermill": {
     "duration": 0.237314,
     "end_time": "2020-11-29T08:49:55.828661",
     "exception": false,
     "start_time": "2020-11-29T08:49:55.591347",
     "status": "completed"
    },
    "tags": []
   },
   "outputs": [],
   "source": [
    "model =  MY_2(X_train.shape[1], y_train.shape[1], 10)\n",
    "criterion = nn.BCELoss()\n",
    "DEVICE = 'cuda'\n",
    "model.cuda()\n",
    "criterion.cuda()\n",
    "opt = optim.Adam(params=model.parameters(), lr=1e-3)"
   ]
  },
  {
   "cell_type": "code",
   "execution_count": 39,
   "metadata": {
    "execution": {
     "iopub.execute_input": "2020-11-29T08:49:56.004280Z",
     "iopub.status.busy": "2020-11-29T08:49:56.002855Z",
     "iopub.status.idle": "2020-11-29T08:53:04.215736Z",
     "shell.execute_reply": "2020-11-29T08:53:04.215047Z"
    },
    "papermill": {
     "duration": 188.308409,
     "end_time": "2020-11-29T08:53:04.215850",
     "exception": false,
     "start_time": "2020-11-29T08:49:55.907441",
     "status": "completed"
    },
    "tags": []
   },
   "outputs": [
    {
     "name": "stdout",
     "output_type": "stream",
     "text": [
      "Epoch: 1 train loss: 0.71490 val loss: 0.78486 Time: 1.7574212579999653\n",
      "Epoch: 2 train loss: 0.65014 val loss: 0.68928 Time: 1.6855499090000308\n",
      "Epoch: 3 train loss: 0.59442 val loss: 0.58182 Time: 1.735180501000002\n",
      "Epoch: 4 train loss: 0.54208 val loss: 0.68064 Time: 1.9095760330000076\n",
      "Epoch: 5 train loss: 0.49402 val loss: 0.53296 Time: 1.8026565690000211\n",
      "Epoch: 6 train loss: 0.45145 val loss: 0.46660 Time: 2.141840195000043\n",
      "Epoch: 7 train loss: 0.41301 val loss: 0.40441 Time: 2.2123622089999913\n",
      "Epoch: 8 train loss: 0.37936 val loss: 0.37250 Time: 1.8785462619999862\n",
      "Epoch: 9 train loss: 0.34931 val loss: 0.34342 Time: 1.8587970539999787\n",
      "Epoch: 10 train loss: 0.32220 val loss: 0.31488 Time: 1.745568536999997\n",
      "Epoch: 11 train loss: 0.29801 val loss: 0.29120 Time: 1.7347331340000096\n",
      "Epoch: 12 train loss: 0.27639 val loss: 0.27025 Time: 2.1369760389999897\n",
      "Epoch: 13 train loss: 0.25683 val loss: 0.25121 Time: 1.701868657000034\n",
      "Epoch: 14 train loss: 0.23937 val loss: 0.23436 Time: 1.6489593250000212\n",
      "Epoch: 15 train loss: 0.22336 val loss: 0.21870 Time: 1.7812479929999654\n",
      "Epoch: 16 train loss: 0.20859 val loss: 0.20435 Time: 1.6938858830000072\n",
      "Epoch: 17 train loss: 0.19527 val loss: 0.19152 Time: 1.661609354999996\n",
      "Epoch: 18 train loss: 0.18284 val loss: 0.17945 Time: 2.176254467000035\n",
      "Epoch: 19 train loss: 0.17146 val loss: 0.16841 Time: 1.6582390030000056\n",
      "Epoch: 20 train loss: 0.16097 val loss: 0.15841 Time: 1.701402540999993\n",
      "Epoch: 21 train loss: 0.15148 val loss: 0.14886 Time: 1.7026957319999951\n",
      "Epoch: 22 train loss: 0.14244 val loss: 0.14021 Time: 1.739749278999966\n",
      "Epoch: 23 train loss: 0.13446 val loss: 0.13229 Time: 1.829996101000006\n",
      "Epoch: 24 train loss: 0.12672 val loss: 0.12470 Time: 2.2795732170000065\n",
      "Epoch: 25 train loss: 0.11969 val loss: 0.11806 Time: 1.8984906629999614\n",
      "Epoch: 26 train loss: 0.11314 val loss: 0.11147 Time: 2.257841165000002\n",
      "Epoch: 27 train loss: 0.10716 val loss: 0.10562 Time: 1.8466690120000067\n",
      "Epoch: 28 train loss: 0.10143 val loss: 0.09998 Time: 1.7508696509999595\n",
      "Epoch: 29 train loss: 0.09610 val loss: 0.09503 Time: 1.807458376999989\n",
      "Epoch: 30 train loss: 0.09128 val loss: 0.09016 Time: 2.077527474999954\n",
      "Epoch: 31 train loss: 0.08658 val loss: 0.08571 Time: 1.7792479290000074\n",
      "Epoch: 32 train loss: 0.08244 val loss: 0.08141 Time: 1.6387213969999834\n",
      "Epoch: 33 train loss: 0.07846 val loss: 0.07764 Time: 1.665186867999978\n",
      "Epoch: 34 train loss: 0.07493 val loss: 0.07387 Time: 1.837013770999988\n",
      "Epoch: 35 train loss: 0.07131 val loss: 0.07048 Time: 1.7017460720000486\n",
      "Epoch: 36 train loss: 0.06786 val loss: 0.06717 Time: 1.882438671999978\n",
      "Epoch: 37 train loss: 0.06486 val loss: 0.06401 Time: 1.6515574229999856\n",
      "Epoch: 38 train loss: 0.06182 val loss: 0.06109 Time: 1.6460879219999924\n",
      "Epoch: 39 train loss: 0.05924 val loss: 0.05831 Time: 1.6359007570000017\n",
      "Epoch: 40 train loss: 0.05659 val loss: 0.05581 Time: 1.6525244590000057\n",
      "Epoch: 41 train loss: 0.05421 val loss: 0.05349 Time: 1.7442785670000376\n",
      "Epoch: 42 train loss: 0.05198 val loss: 0.05123 Time: 1.9079805039999655\n",
      "Epoch: 43 train loss: 0.04981 val loss: 0.04923 Time: 2.1036266259999934\n",
      "Epoch: 44 train loss: 0.04796 val loss: 0.04729 Time: 1.7585785370000053\n",
      "Epoch: 45 train loss: 0.04615 val loss: 0.04538 Time: 1.6402021609999906\n",
      "Epoch: 46 train loss: 0.04434 val loss: 0.04375 Time: 1.6856724969999846\n",
      "Epoch: 47 train loss: 0.04267 val loss: 0.04213 Time: 1.6257163730000457\n",
      "Epoch: 48 train loss: 0.04134 val loss: 0.04069 Time: 1.7421600119999994\n",
      "Epoch: 49 train loss: 0.03990 val loss: 0.03914 Time: 1.847654024999997\n",
      "Epoch: 50 train loss: 0.03821 val loss: 0.03775 Time: 1.7692078059999972\n",
      "Epoch: 51 train loss: 0.03703 val loss: 0.03649 Time: 1.6574469839999892\n",
      "Epoch: 52 train loss: 0.03570 val loss: 0.03535 Time: 1.641090542000029\n",
      "Epoch: 53 train loss: 0.03465 val loss: 0.03416 Time: 1.6562875800000256\n",
      "Epoch: 54 train loss: 0.03361 val loss: 0.03315 Time: 1.6324427190000392\n",
      "Epoch: 55 train loss: 0.03259 val loss: 0.03225 Time: 1.874788728999988\n",
      "Epoch: 56 train loss: 0.03154 val loss: 0.03113 Time: 1.6398265740000397\n",
      "Epoch: 57 train loss: 0.03063 val loss: 0.03039 Time: 1.6333772649999787\n",
      "Epoch: 58 train loss: 0.02979 val loss: 0.02946 Time: 1.6667373780000503\n",
      "Epoch: 59 train loss: 0.02895 val loss: 0.02869 Time: 1.6343822210000098\n",
      "Epoch: 60 train loss: 0.02826 val loss: 0.02795 Time: 2.4128994980000016\n",
      "Epoch: 61 train loss: 0.02739 val loss: 0.02722 Time: 2.234036092999986\n",
      "Epoch: 62 train loss: 0.02678 val loss: 0.02655 Time: 1.7393977479999876\n",
      "Epoch: 63 train loss: 0.02604 val loss: 0.02582 Time: 1.8967446379999728\n",
      "Epoch: 64 train loss: 0.02546 val loss: 0.02527 Time: 1.6618085210000118\n",
      "Epoch: 65 train loss: 0.02494 val loss: 0.02483 Time: 1.7195005220000326\n",
      "Epoch: 66 train loss: 0.02443 val loss: 0.02426 Time: 1.6796058510000194\n",
      "Epoch: 67 train loss: 0.02370 val loss: 0.02362 Time: 1.8844882750000238\n",
      "Epoch: 68 train loss: 0.02344 val loss: 0.02328 Time: 1.6859765539999785\n",
      "Epoch: 69 train loss: 0.02296 val loss: 0.02274 Time: 1.8643557249999958\n",
      "Epoch: 70 train loss: 0.02246 val loss: 0.02239 Time: 1.8096020420000514\n",
      "Epoch: 71 train loss: 0.02205 val loss: 0.02189 Time: 1.6359022249999953\n",
      "Epoch: 72 train loss: 0.02155 val loss: 0.02156 Time: 1.6809551779999765\n",
      "Epoch: 73 train loss: 0.02140 val loss: 0.02118 Time: 1.7110202109999477\n",
      "Epoch: 74 train loss: 0.02090 val loss: 0.02089 Time: 1.8487058430000047\n",
      "Epoch: 75 train loss: 0.02053 val loss: 0.02064 Time: 1.6816590980000115\n",
      "Epoch: 76 train loss: 0.02016 val loss: 0.02023 Time: 1.8173240390000274\n",
      "Epoch: 77 train loss: 0.01991 val loss: 0.02010 Time: 1.643450056000006\n",
      "Epoch: 78 train loss: 0.01980 val loss: 0.01983 Time: 1.7610717180000393\n",
      "Epoch: 79 train loss: 0.01937 val loss: 0.01950 Time: 1.844830370000011\n",
      "Epoch: 80 train loss: 0.01913 val loss: 0.01925 Time: 1.883204035999995\n",
      "Epoch: 81 train loss: 0.01889 val loss: 0.01907 Time: 1.7127864199999863\n",
      "Epoch: 82 train loss: 0.01877 val loss: 0.01882 Time: 1.6420194089999995\n",
      "Epoch: 83 train loss: 0.01835 val loss: 0.01860 Time: 1.6753137449999826\n",
      "Epoch: 84 train loss: 0.01823 val loss: 0.01849 Time: 1.643233078000037\n",
      "Epoch: 85 train loss: 0.01811 val loss: 0.01834 Time: 1.670559580000031\n",
      "Epoch: 86 train loss: 0.01794 val loss: 0.01829 Time: 1.881856374999984\n",
      "Epoch: 87 train loss: 0.01757 val loss: 0.01801 Time: 1.6598446729999523\n",
      "Epoch: 88 train loss: 0.01735 val loss: 0.01782 Time: 1.7263142249999532\n",
      "Epoch: 89 train loss: 0.01715 val loss: 0.01765 Time: 1.699295008999968\n",
      "Epoch: 90 train loss: 0.01709 val loss: 0.01763 Time: 1.6736611580000158\n",
      "Epoch: 91 train loss: 0.01703 val loss: 0.01762 Time: 1.6832956890000332\n",
      "Epoch: 92 train loss: 0.01673 val loss: 0.01737 Time: 1.686916506999978\n",
      "Epoch: 93 train loss: 0.01672 val loss: 0.01733 Time: 1.9104330679999748\n",
      "Epoch: 94 train loss: 0.01648 val loss: 0.01719 Time: 2.221018812000011\n",
      "Epoch: 95 train loss: 0.01641 val loss: 0.01716 Time: 1.718041697999979\n",
      "Epoch: 96 train loss: 0.01608 val loss: 0.01696 Time: 1.6671056540000109\n",
      "Epoch: 97 train loss: 0.01610 val loss: 0.01697 Time: 2.24664246399999\n",
      "Epoch: 98 train loss: 0.01594 val loss: 0.01682 Time: 1.655116287999988\n",
      "Epoch: 99 train loss: 0.01575 val loss: 0.01677 Time: 1.9643262479999635\n",
      "Epoch: 100 train loss: 0.01563 val loss: 0.01681 Time: 1.7190810889999852\n",
      "Epoch: 101 train loss: 0.01562 val loss: 0.01670 Time: 1.756804319999958\n",
      "Epoch: 102 train loss: 0.01550 val loss: 0.01662 Time: 1.6645241060000444\n",
      "Epoch: 103 train loss: 0.01533 val loss: 0.01655 Time: 1.719766366999977\n",
      "Epoch: 104 train loss: 0.01528 val loss: 0.01649 Time: 1.7897633360000214\n",
      "Epoch: 105 train loss: 0.01518 val loss: 0.01654 Time: 1.9124148060000152\n"
     ]
    }
   ],
   "source": [
    "EPOCHS = 105\n",
    "# 105\n",
    "train_loss = []\n",
    "val_loss = []\n",
    "for epoch in range(1, EPOCHS + 1):\n",
    "    st = time.perf_counter()\n",
    "    model.to(DEVICE)\n",
    "    current_loss = 0\n",
    "    model.train()\n",
    "    for batch in train_iterator:\n",
    "        opt.zero_grad()\n",
    "        x, y = batch[:-1][0].cuda(), batch[-1].type(torch.FloatTensor).cuda()\n",
    "        y_pred = model(x).type(torch.FloatTensor).cuda()\n",
    "#         print(y)\n",
    "#         print(y_pred)\n",
    "        loss = criterion(y_pred, y)\n",
    "        loss.backward()\n",
    "        opt.step()\n",
    "        current_loss += loss.item()/TRAIN_BATCHES_LEN\n",
    "    train_loss.append(current_loss)\n",
    "    \n",
    "    model.eval()\n",
    "    with torch.no_grad():\n",
    "        current_loss = 0\n",
    "        for batch in val_iterator:\n",
    "            x, y = batch[:-1][0].cuda(), batch[-1].type(torch.FloatTensor).cuda()\n",
    "            y_pred = model(x)\n",
    "            loss = criterion(y_pred, y)\n",
    "            current_loss += loss.item()/VAL_BATCHES_LEN\n",
    "        val_loss.append(current_loss)\n",
    "    \n",
    "#     torch.save(model.cpu().state_dict(), 'epoch{}'.format(epoch))\n",
    "    \n",
    "    print('Epoch: {}'.format(epoch), 'train loss: {:.5f}'.format(train_loss[-1]), \n",
    "         'val loss: {:.5f}'.format(val_loss[-1]), 'Time: {}'.format(time.perf_counter() - st))"
   ]
  },
  {
   "cell_type": "code",
   "execution_count": 40,
   "metadata": {
    "execution": {
     "iopub.execute_input": "2020-11-29T08:53:04.437547Z",
     "iopub.status.busy": "2020-11-29T08:53:04.431637Z",
     "iopub.status.idle": "2020-11-29T08:53:04.583277Z",
     "shell.execute_reply": "2020-11-29T08:53:04.583773Z"
    },
    "papermill": {
     "duration": 0.280639,
     "end_time": "2020-11-29T08:53:04.583910",
     "exception": false,
     "start_time": "2020-11-29T08:53:04.303271",
     "status": "completed"
    },
    "tags": []
   },
   "outputs": [
    {
     "data": {
      "image/png": "[encoded data removed]",
      "text/plain": [
       "<Figure size 432x288 with 1 Axes>"
      ]
     },
     "metadata": {
      "needs_background": "light"
     },
     "output_type": "display_data"
    }
   ],
   "source": [
    "plt.plot(train_loss[-10:], label='train loss')\n",
    "plt.plot(val_loss[-10:], label='validation loss')\n",
    "plt.legend(fontsize=15)\n",
    "plt.show()"
   ]
  },
  {
   "cell_type": "code",
   "execution_count": 41,
   "metadata": {
    "execution": {
     "iopub.execute_input": "2020-11-29T08:53:04.770864Z",
     "iopub.status.busy": "2020-11-29T08:53:04.769538Z",
     "iopub.status.idle": "2020-11-29T08:53:04.814505Z",
     "shell.execute_reply": "2020-11-29T08:53:04.813984Z"
    },
    "papermill": {
     "duration": 0.141025,
     "end_time": "2020-11-29T08:53:04.814624",
     "exception": false,
     "start_time": "2020-11-29T08:53:04.673599",
     "status": "completed"
    },
    "tags": []
   },
   "outputs": [],
   "source": [
    "with torch.no_grad():\n",
    "    probs = model(torch.from_numpy(test_features.set_index('sig_id').to_numpy()).type(torch.FloatTensor).cuda()).cpu().numpy()\n",
    "    pred_2 = pd.concat([test_features[['sig_id']], pd.DataFrame(probs, columns = train_targets_scored.columns.drop('sig_id'))], axis=1)"
   ]
  },
  {
   "cell_type": "code",
   "execution_count": 42,
   "metadata": {
    "execution": {
     "iopub.execute_input": "2020-11-29T08:53:04.999054Z",
     "iopub.status.busy": "2020-11-29T08:53:04.998401Z",
     "iopub.status.idle": "2020-11-29T08:53:05.151149Z",
     "shell.execute_reply": "2020-11-29T08:53:05.151662Z"
    },
    "papermill": {
     "duration": 0.248391,
     "end_time": "2020-11-29T08:53:05.151818",
     "exception": false,
     "start_time": "2020-11-29T08:53:04.903427",
     "status": "completed"
    },
    "tags": []
   },
   "outputs": [],
   "source": [
    "model =  MY_3(X_train.shape[1], y_train.shape[1], 8)\n",
    "criterion = nn.BCELoss()\n",
    "DEVICE = 'cuda'\n",
    "model.cuda()\n",
    "criterion.cuda()\n",
    "opt = optim.Adam(params=model.parameters(), lr=1e-4)"
   ]
  },
  {
   "cell_type": "code",
   "execution_count": 43,
   "metadata": {
    "execution": {
     "iopub.execute_input": "2020-11-29T08:53:05.344912Z",
     "iopub.status.busy": "2020-11-29T08:53:05.344046Z",
     "iopub.status.idle": "2020-11-29T09:10:25.111969Z",
     "shell.execute_reply": "2020-11-29T09:10:25.111077Z"
    },
    "papermill": {
     "duration": 1039.871207,
     "end_time": "2020-11-29T09:10:25.112115",
     "exception": false,
     "start_time": "2020-11-29T08:53:05.240908",
     "status": "completed"
    },
    "tags": []
   },
   "outputs": [
    {
     "name": "stdout",
     "output_type": "stream",
     "text": [
      "Epoch: 1 train loss: 0.68716 val loss: 0.62128 Time: 1.8788494609999589\n",
      "Epoch: 2 train loss: 0.45380 val loss: 0.31631 Time: 1.9465727670000206\n",
      "Epoch: 3 train loss: 0.22359 val loss: 0.16171 Time: 1.8740860009999665\n",
      "Epoch: 4 train loss: 0.13170 val loss: 0.10279 Time: 1.8845866300000012\n",
      "Epoch: 5 train loss: 0.09188 val loss: 0.08104 Time: 2.0876927749999936\n",
      "Epoch: 6 train loss: 0.07014 val loss: 0.06527 Time: 1.9011194590000287\n",
      "Epoch: 7 train loss: 0.05673 val loss: 0.05205 Time: 1.9295705339999927\n",
      "Epoch: 8 train loss: 0.04784 val loss: 0.04631 Time: 2.2219163030000004\n",
      "Epoch: 9 train loss: 0.04165 val loss: 0.04051 Time: 2.075020664999954\n",
      "Epoch: 10 train loss: 0.03709 val loss: 0.03582 Time: 2.1266134760000455\n",
      "Epoch: 11 train loss: 0.03365 val loss: 0.03308 Time: 2.026194629000031\n",
      "Epoch: 12 train loss: 0.03103 val loss: 0.03043 Time: 1.925712586999964\n",
      "Epoch: 13 train loss: 0.02899 val loss: 0.02886 Time: 1.903590066999982\n",
      "Epoch: 14 train loss: 0.02751 val loss: 0.02763 Time: 1.8752444990000185\n",
      "Epoch: 15 train loss: 0.02616 val loss: 0.02642 Time: 1.8995265140000015\n",
      "Epoch: 16 train loss: 0.02512 val loss: 0.02526 Time: 2.045433824999975\n",
      "Epoch: 17 train loss: 0.02428 val loss: 0.02421 Time: 1.9840120969999475\n",
      "Epoch: 18 train loss: 0.02347 val loss: 0.02427 Time: 2.145146994000015\n",
      "Epoch: 19 train loss: 0.02287 val loss: 0.02313 Time: 2.112580849999972\n",
      "Epoch: 20 train loss: 0.02242 val loss: 0.02257 Time: 2.141317153999978\n",
      "Epoch: 21 train loss: 0.02204 val loss: 0.02226 Time: 2.196415521000006\n",
      "Epoch: 22 train loss: 0.02173 val loss: 0.02190 Time: 2.260685036000041\n",
      "Epoch: 23 train loss: 0.02133 val loss: 0.02157 Time: 1.9102364450000096\n",
      "Epoch: 24 train loss: 0.02109 val loss: 0.02134 Time: 2.36455300099999\n",
      "Epoch: 25 train loss: 0.02083 val loss: 0.02106 Time: 2.0153561319999653\n",
      "Epoch: 26 train loss: 0.02065 val loss: 0.02107 Time: 2.2654551850000075\n",
      "Epoch: 27 train loss: 0.02042 val loss: 0.02099 Time: 1.9010912240000266\n",
      "Epoch: 28 train loss: 0.02024 val loss: 0.02076 Time: 1.8990723650000518\n",
      "Epoch: 29 train loss: 0.02019 val loss: 0.02035 Time: 1.9829463820000228\n",
      "Epoch: 30 train loss: 0.01998 val loss: 0.02047 Time: 2.074562558000025\n",
      "Epoch: 31 train loss: 0.01979 val loss: 0.02066 Time: 1.8845110439999644\n",
      "Epoch: 32 train loss: 0.01969 val loss: 0.01994 Time: 2.1411045139999487\n",
      "Epoch: 33 train loss: 0.01949 val loss: 0.01983 Time: 2.00614683699996\n",
      "Epoch: 34 train loss: 0.01940 val loss: 0.01979 Time: 2.0458181960000275\n",
      "Epoch: 35 train loss: 0.01943 val loss: 0.01945 Time: 1.8725899519999984\n",
      "Epoch: 36 train loss: 0.01918 val loss: 0.01940 Time: 1.9394524959999444\n",
      "Epoch: 37 train loss: 0.01919 val loss: 0.01936 Time: 2.085381503000008\n",
      "Epoch: 38 train loss: 0.01898 val loss: 0.01989 Time: 1.8783732560000317\n",
      "Epoch: 39 train loss: 0.01883 val loss: 0.01915 Time: 1.8928425120000156\n",
      "Epoch: 40 train loss: 0.01878 val loss: 0.01899 Time: 2.2404363519999606\n",
      "Epoch: 41 train loss: 0.01868 val loss: 0.01891 Time: 1.9011177090000047\n",
      "Epoch: 42 train loss: 0.01860 val loss: 0.01876 Time: 1.8884550069999477\n",
      "Epoch: 43 train loss: 0.01853 val loss: 0.01867 Time: 2.213241718000063\n",
      "Epoch: 44 train loss: 0.01840 val loss: 0.01860 Time: 2.0208595750000313\n",
      "Epoch: 45 train loss: 0.01839 val loss: 0.01849 Time: 1.884359494000023\n",
      "Epoch: 46 train loss: 0.01838 val loss: 0.01843 Time: 1.9953805259999626\n",
      "Epoch: 47 train loss: 0.01836 val loss: 0.01850 Time: 2.0112055490000103\n",
      "Epoch: 48 train loss: 0.01826 val loss: 0.01828 Time: 2.226137996000034\n",
      "Epoch: 49 train loss: 0.01808 val loss: 0.01805 Time: 2.287919221999914\n",
      "Epoch: 50 train loss: 0.01806 val loss: 0.01795 Time: 2.1890046879999545\n",
      "Epoch: 51 train loss: 0.01790 val loss: 0.01809 Time: 1.9337081669999634\n",
      "Epoch: 52 train loss: 0.01797 val loss: 0.01818 Time: 2.0463895569999977\n",
      "Epoch: 53 train loss: 0.01786 val loss: 0.01780 Time: 2.042333497999948\n",
      "Epoch: 54 train loss: 0.01780 val loss: 0.01789 Time: 2.1650256330000275\n",
      "Epoch: 55 train loss: 0.01782 val loss: 0.01779 Time: 2.025490234000017\n",
      "Epoch: 56 train loss: 0.01774 val loss: 0.01764 Time: 2.117977996000036\n",
      "Epoch: 57 train loss: 0.01777 val loss: 0.01801 Time: 1.8631803679999166\n",
      "Epoch: 58 train loss: 0.01772 val loss: 0.01764 Time: 2.0248747619999676\n",
      "Epoch: 59 train loss: 0.01759 val loss: 0.01751 Time: 2.0424430790000088\n",
      "Epoch: 60 train loss: 0.01750 val loss: 0.01753 Time: 1.8692264420000129\n",
      "Epoch: 61 train loss: 0.01754 val loss: 0.01732 Time: 1.8787223760000415\n",
      "Epoch: 62 train loss: 0.01764 val loss: 0.01734 Time: 2.099310734000028\n",
      "Epoch: 63 train loss: 0.01752 val loss: 0.01735 Time: 1.930693238999993\n",
      "Epoch: 64 train loss: 0.01757 val loss: 0.01745 Time: 2.03817192300005\n",
      "Epoch: 65 train loss: 0.01739 val loss: 0.01737 Time: 1.9385345209999514\n",
      "Epoch: 66 train loss: 0.01742 val loss: 0.01734 Time: 2.0407108970000536\n",
      "Epoch: 67 train loss: 0.01750 val loss: 0.01712 Time: 2.0775907779999443\n",
      "Epoch: 68 train loss: 0.01739 val loss: 0.01707 Time: 1.9706951560000334\n",
      "Epoch: 69 train loss: 0.01725 val loss: 0.01713 Time: 1.91936165300001\n",
      "Epoch: 70 train loss: 0.01718 val loss: 0.01705 Time: 2.1145676600000343\n",
      "Epoch: 71 train loss: 0.01731 val loss: 0.01701 Time: 2.052270105000048\n",
      "Epoch: 72 train loss: 0.01720 val loss: 0.01694 Time: 2.074059797000018\n",
      "Epoch: 73 train loss: 0.01717 val loss: 0.01706 Time: 1.8606318419999752\n",
      "Epoch: 74 train loss: 0.01721 val loss: 0.01724 Time: 1.8684828750000406\n",
      "Epoch: 75 train loss: 0.01719 val loss: 0.01693 Time: 2.2111137079999708\n",
      "Epoch: 76 train loss: 0.01712 val loss: 0.01701 Time: 2.0223321029999397\n",
      "Epoch: 77 train loss: 0.01705 val loss: 0.01721 Time: 2.019910076999963\n",
      "Epoch: 78 train loss: 0.01701 val loss: 0.01688 Time: 2.180715186000043\n",
      "Epoch: 79 train loss: 0.01701 val loss: 0.01691 Time: 2.6088435729999446\n",
      "Epoch: 80 train loss: 0.01697 val loss: 0.01690 Time: 1.9534060340000678\n",
      "Epoch: 81 train loss: 0.01690 val loss: 0.01677 Time: 2.3797967169999765\n",
      "Epoch: 82 train loss: 0.01700 val loss: 0.01677 Time: 2.0690380810000306\n",
      "Epoch: 83 train loss: 0.01699 val loss: 0.01677 Time: 1.9019178599999123\n",
      "Epoch: 84 train loss: 0.01693 val loss: 0.01663 Time: 2.035845553999934\n",
      "Epoch: 85 train loss: 0.01681 val loss: 0.01663 Time: 1.906315319999976\n",
      "Epoch: 86 train loss: 0.01681 val loss: 0.01671 Time: 2.1898984919999975\n",
      "Epoch: 87 train loss: 0.01677 val loss: 0.01656 Time: 2.2060901680000597\n",
      "Epoch: 88 train loss: 0.01684 val loss: 0.01681 Time: 1.87869415199998\n",
      "Epoch: 89 train loss: 0.01690 val loss: 0.01665 Time: 1.9012423479999825\n",
      "Epoch: 90 train loss: 0.01679 val loss: 0.01659 Time: 2.0079444190000686\n",
      "Epoch: 91 train loss: 0.01680 val loss: 0.01668 Time: 2.1102809630000365\n",
      "Epoch: 92 train loss: 0.01673 val loss: 0.01664 Time: 1.911676768999996\n",
      "Epoch: 93 train loss: 0.01679 val loss: 0.01653 Time: 1.881282681000016\n",
      "Epoch: 94 train loss: 0.01661 val loss: 0.01662 Time: 2.1181358890000865\n",
      "Epoch: 95 train loss: 0.01658 val loss: 0.01658 Time: 1.9359353470000542\n",
      "Epoch: 96 train loss: 0.01667 val loss: 0.01648 Time: 2.096677076999981\n",
      "Epoch: 97 train loss: 0.01651 val loss: 0.01649 Time: 2.087470266000082\n",
      "Epoch: 98 train loss: 0.01650 val loss: 0.01635 Time: 2.0364986459999272\n",
      "Epoch: 99 train loss: 0.01663 val loss: 0.01638 Time: 1.909526593999999\n",
      "Epoch: 100 train loss: 0.01655 val loss: 0.01639 Time: 1.8741329649999443\n",
      "Epoch: 101 train loss: 0.01650 val loss: 0.01635 Time: 2.0172227069999735\n",
      "Epoch: 102 train loss: 0.01650 val loss: 0.01645 Time: 2.601478294000003\n",
      "Epoch: 103 train loss: 0.01651 val loss: 0.01623 Time: 2.0423744389999\n",
      "Epoch: 104 train loss: 0.01643 val loss: 0.01641 Time: 1.8809172789999593\n",
      "Epoch: 105 train loss: 0.01643 val loss: 0.01645 Time: 1.881103521\n",
      "Epoch: 106 train loss: 0.01637 val loss: 0.01631 Time: 1.8698746879999817\n",
      "Epoch: 107 train loss: 0.01647 val loss: 0.01628 Time: 2.184986154999933\n",
      "Epoch: 108 train loss: 0.01638 val loss: 0.01625 Time: 2.462687656000071\n",
      "Epoch: 109 train loss: 0.01639 val loss: 0.01627 Time: 2.359298871999954\n",
      "Epoch: 110 train loss: 0.01637 val loss: 0.01632 Time: 1.9790869490000205\n",
      "Epoch: 111 train loss: 0.01636 val loss: 0.01612 Time: 1.9567875640000238\n",
      "Epoch: 112 train loss: 0.01631 val loss: 0.01620 Time: 2.040862230000016\n",
      "Epoch: 113 train loss: 0.01639 val loss: 0.01617 Time: 2.1138601700000663\n",
      "Epoch: 114 train loss: 0.01634 val loss: 0.01616 Time: 2.0527951090000442\n",
      "Epoch: 115 train loss: 0.01627 val loss: 0.01622 Time: 2.0587261919999946\n",
      "Epoch: 116 train loss: 0.01619 val loss: 0.01629 Time: 1.9333502389999921\n",
      "Epoch: 117 train loss: 0.01636 val loss: 0.01613 Time: 1.9538367930000504\n",
      "Epoch: 118 train loss: 0.01640 val loss: 0.01609 Time: 2.609857613000031\n",
      "Epoch: 119 train loss: 0.01633 val loss: 0.01609 Time: 1.973678188000008\n",
      "Epoch: 120 train loss: 0.01629 val loss: 0.01605 Time: 2.0560720170000195\n",
      "Epoch: 121 train loss: 0.01614 val loss: 0.01608 Time: 1.8648712770000202\n",
      "Epoch: 122 train loss: 0.01619 val loss: 0.01609 Time: 2.0147679709999693\n",
      "Epoch: 123 train loss: 0.01621 val loss: 0.01608 Time: 2.3286762010000075\n",
      "Epoch: 124 train loss: 0.01620 val loss: 0.01605 Time: 2.0035801400000537\n",
      "Epoch: 125 train loss: 0.01622 val loss: 0.01599 Time: 2.1362766879999526\n",
      "Epoch: 126 train loss: 0.01611 val loss: 0.01604 Time: 2.0801515990000325\n",
      "Epoch: 127 train loss: 0.01613 val loss: 0.01604 Time: 2.131713922000017\n",
      "Epoch: 128 train loss: 0.01614 val loss: 0.01613 Time: 2.2430155840000907\n",
      "Epoch: 129 train loss: 0.01613 val loss: 0.01604 Time: 1.9223294890000489\n",
      "Epoch: 130 train loss: 0.01610 val loss: 0.01598 Time: 1.8607741419999684\n",
      "Epoch: 131 train loss: 0.01605 val loss: 0.01608 Time: 1.9650014380000584\n",
      "Epoch: 132 train loss: 0.01621 val loss: 0.01617 Time: 1.9687145789999931\n",
      "Epoch: 133 train loss: 0.01610 val loss: 0.01651 Time: 2.1312927509999327\n",
      "Epoch: 134 train loss: 0.01615 val loss: 0.01607 Time: 2.100121258999934\n",
      "Epoch: 135 train loss: 0.01609 val loss: 0.01598 Time: 1.894510256999979\n",
      "Epoch: 136 train loss: 0.01604 val loss: 0.01606 Time: 2.0099075269999958\n",
      "Epoch: 137 train loss: 0.01616 val loss: 0.01772 Time: 2.1710371460000033\n",
      "Epoch: 138 train loss: 0.01608 val loss: 0.01603 Time: 1.9936667069999885\n",
      "Epoch: 139 train loss: 0.01616 val loss: 0.01587 Time: 2.472832072000074\n",
      "Epoch: 140 train loss: 0.01600 val loss: 0.01597 Time: 1.9393248510000376\n",
      "Epoch: 141 train loss: 0.01608 val loss: 0.01596 Time: 1.9763862500000187\n",
      "Epoch: 142 train loss: 0.01597 val loss: 0.01581 Time: 2.012313875000018\n",
      "Epoch: 143 train loss: 0.01597 val loss: 0.01607 Time: 1.8878281329999709\n",
      "Epoch: 144 train loss: 0.01594 val loss: 0.01590 Time: 1.9387291720000803\n",
      "Epoch: 145 train loss: 0.01599 val loss: 0.01591 Time: 2.1277017269999305\n",
      "Epoch: 146 train loss: 0.01603 val loss: 0.01601 Time: 1.948270897000043\n",
      "Epoch: 147 train loss: 0.01605 val loss: 0.01594 Time: 2.0135165719999577\n",
      "Epoch: 148 train loss: 0.01603 val loss: 0.01589 Time: 1.9496330649999436\n",
      "Epoch: 149 train loss: 0.01606 val loss: 0.01590 Time: 2.2668658739999046\n",
      "Epoch: 150 train loss: 0.01589 val loss: 0.01587 Time: 2.1600837419999834\n",
      "Epoch: 151 train loss: 0.01585 val loss: 0.01587 Time: 2.110982627999988\n",
      "Epoch: 152 train loss: 0.01582 val loss: 0.01584 Time: 1.9796962099999291\n",
      "Epoch: 153 train loss: 0.01588 val loss: 0.01593 Time: 1.8801895729999387\n",
      "Epoch: 154 train loss: 0.01582 val loss: 0.01600 Time: 2.0906563830000096\n",
      "Epoch: 155 train loss: 0.01586 val loss: 0.01576 Time: 2.2544690450000644\n",
      "Epoch: 156 train loss: 0.01594 val loss: 0.01590 Time: 1.919687888999988\n",
      "Epoch: 157 train loss: 0.01588 val loss: 0.01576 Time: 2.0695073240000283\n",
      "Epoch: 158 train loss: 0.01584 val loss: 0.01583 Time: 1.9047259000000167\n",
      "Epoch: 159 train loss: 0.01578 val loss: 0.01580 Time: 1.9140800769999942\n",
      "Epoch: 160 train loss: 0.01585 val loss: 0.01581 Time: 1.9465751800000817\n",
      "Epoch: 161 train loss: 0.01586 val loss: 0.01580 Time: 2.077376029999982\n",
      "Epoch: 162 train loss: 0.01576 val loss: 0.01588 Time: 1.9832088729999668\n",
      "Epoch: 163 train loss: 0.01582 val loss: 0.01582 Time: 1.9915724440000986\n",
      "Epoch: 164 train loss: 0.01590 val loss: 0.01591 Time: 2.155252642999926\n",
      "Epoch: 165 train loss: 0.01584 val loss: 0.01575 Time: 2.0680190049999965\n",
      "Epoch: 166 train loss: 0.01575 val loss: 0.01576 Time: 2.793806600000039\n",
      "Epoch: 167 train loss: 0.01575 val loss: 0.01578 Time: 1.9369974699999375\n",
      "Epoch: 168 train loss: 0.01562 val loss: 0.01578 Time: 2.2062482579999596\n",
      "Epoch: 169 train loss: 0.01576 val loss: 0.01588 Time: 2.1003267840000035\n",
      "Epoch: 170 train loss: 0.01579 val loss: 0.01580 Time: 1.9348768770000788\n",
      "Epoch: 171 train loss: 0.01579 val loss: 0.01579 Time: 2.1936706230000027\n",
      "Epoch: 172 train loss: 0.01580 val loss: 0.01575 Time: 2.0308130050000273\n",
      "Epoch: 173 train loss: 0.01579 val loss: 0.01573 Time: 1.973190747999979\n",
      "Epoch: 174 train loss: 0.01574 val loss: 0.01575 Time: 1.9092220300000236\n",
      "Epoch: 175 train loss: 0.01559 val loss: 0.01587 Time: 1.9643757979999918\n",
      "Epoch: 176 train loss: 0.01564 val loss: 0.01574 Time: 2.0009443269999565\n",
      "Epoch: 177 train loss: 0.01566 val loss: 0.01568 Time: 2.1111868430000413\n",
      "Epoch: 178 train loss: 0.01567 val loss: 0.01584 Time: 2.0496113189999505\n",
      "Epoch: 179 train loss: 0.01568 val loss: 0.01571 Time: 2.249392744999909\n",
      "Epoch: 180 train loss: 0.01574 val loss: 0.01574 Time: 2.0173371939999925\n",
      "Epoch: 181 train loss: 0.01579 val loss: 0.01570 Time: 1.8885078480000175\n",
      "Epoch: 182 train loss: 0.01558 val loss: 0.01570 Time: 2.189938792000021\n",
      "Epoch: 183 train loss: 0.01558 val loss: 0.01576 Time: 2.096453481000026\n",
      "Epoch: 184 train loss: 0.01553 val loss: 0.01575 Time: 1.9550211699998954\n",
      "Epoch: 185 train loss: 0.01562 val loss: 0.01569 Time: 2.048605213999963\n",
      "Epoch: 186 train loss: 0.01557 val loss: 0.01563 Time: 1.886381938999989\n",
      "Epoch: 187 train loss: 0.01580 val loss: 0.01577 Time: 2.0240774240000974\n",
      "Epoch: 188 train loss: 0.01573 val loss: 0.01568 Time: 2.0957318630000827\n",
      "Epoch: 189 train loss: 0.01565 val loss: 0.01575 Time: 1.9597136789999468\n",
      "Epoch: 190 train loss: 0.01560 val loss: 0.01581 Time: 1.8732319580000194\n",
      "Epoch: 191 train loss: 0.01561 val loss: 0.01562 Time: 1.9156418950000216\n",
      "Epoch: 192 train loss: 0.01554 val loss: 0.01575 Time: 2.027851888999976\n",
      "Epoch: 193 train loss: 0.01555 val loss: 0.01562 Time: 2.1096690650000482\n",
      "Epoch: 194 train loss: 0.01556 val loss: 0.01565 Time: 2.0153858470000614\n",
      "Epoch: 195 train loss: 0.01553 val loss: 0.01561 Time: 2.7675702750000255\n",
      "Epoch: 196 train loss: 0.01549 val loss: 0.01577 Time: 1.9615776050000022\n",
      "Epoch: 197 train loss: 0.01570 val loss: 0.01584 Time: 2.194529363000015\n",
      "Epoch: 198 train loss: 0.01558 val loss: 0.01567 Time: 2.2913548269999637\n",
      "Epoch: 199 train loss: 0.01554 val loss: 0.01567 Time: 2.1749762809999993\n",
      "Epoch: 200 train loss: 0.01567 val loss: 0.01565 Time: 1.9418353329999718\n",
      "Epoch: 201 train loss: 0.01552 val loss: 0.01562 Time: 1.9333391669999855\n",
      "Epoch: 202 train loss: 0.01559 val loss: 0.01566 Time: 2.073542468000028\n",
      "Epoch: 203 train loss: 0.01556 val loss: 0.01563 Time: 2.3153678359999503\n",
      "Epoch: 204 train loss: 0.01549 val loss: 0.01579 Time: 1.9530827790000558\n",
      "Epoch: 205 train loss: 0.01551 val loss: 0.01568 Time: 2.0167337949999364\n",
      "Epoch: 206 train loss: 0.01540 val loss: 0.01571 Time: 2.102161185\n",
      "Epoch: 207 train loss: 0.01556 val loss: 0.01560 Time: 2.0200634110000237\n",
      "Epoch: 208 train loss: 0.01544 val loss: 0.01581 Time: 1.9972317650000377\n",
      "Epoch: 209 train loss: 0.01550 val loss: 0.01563 Time: 2.164672214999996\n",
      "Epoch: 210 train loss: 0.01570 val loss: 0.01566 Time: 2.2880823619999546\n",
      "Epoch: 211 train loss: 0.01563 val loss: 0.01554 Time: 1.9825299519999362\n",
      "Epoch: 212 train loss: 0.01556 val loss: 0.01563 Time: 1.9237121979999756\n",
      "Epoch: 213 train loss: 0.01555 val loss: 0.01556 Time: 1.9312400899999602\n",
      "Epoch: 214 train loss: 0.01554 val loss: 0.01564 Time: 2.1982498419999956\n",
      "Epoch: 215 train loss: 0.01548 val loss: 0.01564 Time: 1.930175888000008\n",
      "Epoch: 216 train loss: 0.01552 val loss: 0.01575 Time: 1.8985582870000144\n",
      "Epoch: 217 train loss: 0.01544 val loss: 0.01564 Time: 2.1064333020000277\n",
      "Epoch: 218 train loss: 0.01548 val loss: 0.01562 Time: 1.990029480999965\n",
      "Epoch: 219 train loss: 0.01545 val loss: 0.01565 Time: 2.313901618999921\n",
      "Epoch: 220 train loss: 0.01547 val loss: 0.01583 Time: 1.9540995950000024\n",
      "Epoch: 221 train loss: 0.01543 val loss: 0.01573 Time: 1.951086134000093\n",
      "Epoch: 222 train loss: 0.01543 val loss: 0.01562 Time: 1.9186494260000018\n",
      "Epoch: 223 train loss: 0.01554 val loss: 0.01561 Time: 2.1242155559999674\n",
      "Epoch: 224 train loss: 0.01537 val loss: 0.01563 Time: 2.280579310999997\n",
      "Epoch: 225 train loss: 0.01539 val loss: 0.01567 Time: 2.27141162800001\n",
      "Epoch: 226 train loss: 0.01541 val loss: 0.01561 Time: 2.704008594999891\n",
      "Epoch: 227 train loss: 0.01543 val loss: 0.01567 Time: 2.040966013000002\n",
      "Epoch: 228 train loss: 0.01542 val loss: 0.01557 Time: 1.9927301099999113\n",
      "Epoch: 229 train loss: 0.01561 val loss: 0.01555 Time: 2.0913113020000083\n",
      "Epoch: 230 train loss: 0.01550 val loss: 0.01566 Time: 2.0356151669999463\n",
      "Epoch: 231 train loss: 0.01542 val loss: 0.01571 Time: 1.9653071270000737\n",
      "Epoch: 232 train loss: 0.01542 val loss: 0.01560 Time: 1.8972903700000643\n",
      "Epoch: 233 train loss: 0.01542 val loss: 0.01557 Time: 2.1163981810000223\n",
      "Epoch: 234 train loss: 0.01538 val loss: 0.01568 Time: 2.004661867999971\n",
      "Epoch: 235 train loss: 0.01535 val loss: 0.01567 Time: 2.167514795000102\n",
      "Epoch: 236 train loss: 0.01545 val loss: 0.01556 Time: 1.9037784010000678\n",
      "Epoch: 237 train loss: 0.01543 val loss: 0.01560 Time: 1.8970532309999726\n",
      "Epoch: 238 train loss: 0.01535 val loss: 0.01554 Time: 1.9476814529999729\n",
      "Epoch: 239 train loss: 0.01531 val loss: 0.01558 Time: 2.1913873319999766\n",
      "Epoch: 240 train loss: 0.01534 val loss: 0.01554 Time: 2.099396312999943\n",
      "Epoch: 241 train loss: 0.01551 val loss: 0.01557 Time: 2.3210535590000063\n",
      "Epoch: 242 train loss: 0.01535 val loss: 0.01559 Time: 2.0947083759999714\n",
      "Epoch: 243 train loss: 0.01540 val loss: 0.01558 Time: 2.0263121039999987\n",
      "Epoch: 244 train loss: 0.01540 val loss: 0.01559 Time: 2.0160328489999984\n",
      "Epoch: 245 train loss: 0.01541 val loss: 0.01561 Time: 2.028863046000083\n",
      "Epoch: 246 train loss: 0.01538 val loss: 0.01565 Time: 2.235529757999984\n",
      "Epoch: 247 train loss: 0.01546 val loss: 0.01556 Time: 1.9582590179999215\n",
      "Epoch: 248 train loss: 0.01537 val loss: 0.01547 Time: 2.0131007360000694\n",
      "Epoch: 249 train loss: 0.01540 val loss: 0.01551 Time: 1.9673485089999758\n",
      "Epoch: 250 train loss: 0.01531 val loss: 0.01558 Time: 1.9493264259999705\n",
      "Epoch: 251 train loss: 0.01533 val loss: 0.01560 Time: 2.2425827389999995\n",
      "Epoch: 252 train loss: 0.01534 val loss: 0.01564 Time: 2.096787375999952\n",
      "Epoch: 253 train loss: 0.01528 val loss: 0.01557 Time: 2.2885622709999325\n",
      "Epoch: 254 train loss: 0.01533 val loss: 0.01549 Time: 2.072515457999998\n",
      "Epoch: 255 train loss: 0.01543 val loss: 0.01560 Time: 2.2656086839999716\n",
      "Epoch: 256 train loss: 0.01533 val loss: 0.01564 Time: 2.5604011920000858\n",
      "Epoch: 257 train loss: 0.01532 val loss: 0.01557 Time: 2.0777276789999632\n",
      "Epoch: 258 train loss: 0.01528 val loss: 0.01546 Time: 1.9993317089999891\n",
      "Epoch: 259 train loss: 0.01527 val loss: 0.01558 Time: 2.0393204230000492\n",
      "Epoch: 260 train loss: 0.01528 val loss: 0.01549 Time: 2.194448565000016\n",
      "Epoch: 261 train loss: 0.01543 val loss: 0.01555 Time: 2.2070206280000093\n",
      "Epoch: 262 train loss: 0.01528 val loss: 0.01560 Time: 1.9872308620000467\n",
      "Epoch: 263 train loss: 0.01543 val loss: 0.01545 Time: 2.2432707230000233\n",
      "Epoch: 264 train loss: 0.01526 val loss: 0.01547 Time: 1.972570833000077\n",
      "Epoch: 265 train loss: 0.01522 val loss: 0.01553 Time: 1.9676730400000224\n",
      "Epoch: 266 train loss: 0.01527 val loss: 0.01554 Time: 2.0328801960000646\n",
      "Epoch: 267 train loss: 0.01521 val loss: 0.01548 Time: 2.037465443999963\n",
      "Epoch: 268 train loss: 0.01526 val loss: 0.01555 Time: 1.9201101259999405\n",
      "Epoch: 269 train loss: 0.01529 val loss: 0.01553 Time: 1.9531678409999813\n",
      "Epoch: 270 train loss: 0.01529 val loss: 0.01545 Time: 1.9323186550000173\n",
      "Epoch: 271 train loss: 0.01516 val loss: 0.01557 Time: 2.0715658870000198\n",
      "Epoch: 272 train loss: 0.01541 val loss: 0.01543 Time: 2.438651498000013\n",
      "Epoch: 273 train loss: 0.01525 val loss: 0.01558 Time: 2.1343023740000717\n",
      "Epoch: 274 train loss: 0.01530 val loss: 0.01549 Time: 2.1332694740000306\n",
      "Epoch: 275 train loss: 0.01525 val loss: 0.01553 Time: 1.9677503460000025\n",
      "Epoch: 276 train loss: 0.01532 val loss: 0.01547 Time: 1.9130722579999428\n",
      "Epoch: 277 train loss: 0.01532 val loss: 0.01548 Time: 2.2096339990000615\n",
      "Epoch: 278 train loss: 0.01529 val loss: 0.01560 Time: 2.115836186000024\n",
      "Epoch: 279 train loss: 0.01551 val loss: 0.01544 Time: 1.9927702570000747\n",
      "Epoch: 280 train loss: 0.01556 val loss: 0.01544 Time: 1.9333431069999278\n",
      "Epoch: 281 train loss: 0.01558 val loss: 0.01549 Time: 2.387916948999873\n",
      "Epoch: 282 train loss: 0.01544 val loss: 0.01544 Time: 2.0023374219999823\n",
      "Epoch: 283 train loss: 0.01539 val loss: 0.01553 Time: 2.597824558999946\n",
      "Epoch: 284 train loss: 0.01536 val loss: 0.01569 Time: 2.030502684999874\n",
      "Epoch: 285 train loss: 0.01541 val loss: 0.01555 Time: 1.9741362659999595\n",
      "Epoch: 286 train loss: 0.01541 val loss: 0.01552 Time: 2.150073539999994\n",
      "Epoch: 287 train loss: 0.01535 val loss: 0.01545 Time: 2.40597042100012\n",
      "Epoch: 288 train loss: 0.01521 val loss: 0.01550 Time: 2.052980658000024\n",
      "Epoch: 289 train loss: 0.01529 val loss: 0.01548 Time: 2.13858100199991\n",
      "Epoch: 290 train loss: 0.01535 val loss: 0.01558 Time: 2.071219992999886\n",
      "Epoch: 291 train loss: 0.01530 val loss: 0.01555 Time: 1.9194569869998759\n",
      "Epoch: 292 train loss: 0.01525 val loss: 0.01547 Time: 2.0271250079999845\n",
      "Epoch: 293 train loss: 0.01524 val loss: 0.01545 Time: 2.171677907000003\n",
      "Epoch: 294 train loss: 0.01516 val loss: 0.01552 Time: 1.9310918439998659\n",
      "Epoch: 295 train loss: 0.01517 val loss: 0.01546 Time: 2.022923095999886\n",
      "Epoch: 296 train loss: 0.01531 val loss: 0.01547 Time: 1.9586434289999488\n",
      "Epoch: 297 train loss: 0.01521 val loss: 0.01555 Time: 2.0904357460001393\n",
      "Epoch: 298 train loss: 0.01528 val loss: 0.01546 Time: 2.1767764690000604\n",
      "Epoch: 299 train loss: 0.01530 val loss: 0.01555 Time: 1.9616580530000647\n",
      "Epoch: 300 train loss: 0.01517 val loss: 0.01552 Time: 1.9813091749999785\n",
      "Epoch: 301 train loss: 0.01522 val loss: 0.01551 Time: 2.0540746670001226\n",
      "Epoch: 302 train loss: 0.01524 val loss: 0.01548 Time: 2.2515183380000963\n",
      "Epoch: 303 train loss: 0.01529 val loss: 0.01543 Time: 2.139387179999858\n",
      "Epoch: 304 train loss: 0.01513 val loss: 0.01552 Time: 2.1597961590000523\n",
      "Epoch: 305 train loss: 0.01513 val loss: 0.01542 Time: 2.0455409650001\n",
      "Epoch: 306 train loss: 0.01521 val loss: 0.01552 Time: 1.9348616289998972\n",
      "Epoch: 307 train loss: 0.01522 val loss: 0.01549 Time: 1.9640279570000985\n",
      "Epoch: 308 train loss: 0.01517 val loss: 0.01561 Time: 1.9618208490001052\n",
      "Epoch: 309 train loss: 0.01515 val loss: 0.01545 Time: 2.3321217529999103\n",
      "Epoch: 310 train loss: 0.01515 val loss: 0.01546 Time: 2.298355392000076\n",
      "Epoch: 311 train loss: 0.01525 val loss: 0.01547 Time: 2.0243328599999586\n",
      "Epoch: 312 train loss: 0.01516 val loss: 0.01561 Time: 2.409843701\n",
      "Epoch: 313 train loss: 0.01516 val loss: 0.01553 Time: 2.1817920720000075\n",
      "Epoch: 314 train loss: 0.01519 val loss: 0.01544 Time: 2.31229736399996\n",
      "Epoch: 315 train loss: 0.01514 val loss: 0.01543 Time: 1.94079071200008\n",
      "Epoch: 316 train loss: 0.01519 val loss: 0.01549 Time: 1.999012367999967\n",
      "Epoch: 317 train loss: 0.01510 val loss: 0.01548 Time: 2.252043100000037\n",
      "Epoch: 318 train loss: 0.01517 val loss: 0.01547 Time: 1.950506938999979\n",
      "Epoch: 319 train loss: 0.01514 val loss: 0.01542 Time: 2.2902319350000653\n",
      "Epoch: 320 train loss: 0.01519 val loss: 0.01545 Time: 2.1546923079999942\n",
      "Epoch: 321 train loss: 0.01524 val loss: 0.01557 Time: 2.2016602290000264\n",
      "Epoch: 322 train loss: 0.01519 val loss: 0.01548 Time: 1.9915015700000822\n",
      "Epoch: 323 train loss: 0.01516 val loss: 0.01554 Time: 1.937848127000052\n",
      "Epoch: 324 train loss: 0.01508 val loss: 0.01545 Time: 2.1858864240000457\n",
      "Epoch: 325 train loss: 0.01512 val loss: 0.01550 Time: 1.9759649480001826\n",
      "Epoch: 326 train loss: 0.01519 val loss: 0.01541 Time: 2.0338049009999395\n",
      "Epoch: 327 train loss: 0.01515 val loss: 0.01545 Time: 2.027285878999919\n",
      "Epoch: 328 train loss: 0.01517 val loss: 0.01547 Time: 2.1169157799999994\n",
      "Epoch: 329 train loss: 0.01508 val loss: 0.01546 Time: 2.221505339000032\n",
      "Epoch: 330 train loss: 0.01511 val loss: 0.01553 Time: 2.3937463300001127\n",
      "Epoch: 331 train loss: 0.01507 val loss: 0.01541 Time: 2.11002731900021\n",
      "Epoch: 332 train loss: 0.01522 val loss: 0.01551 Time: 2.259859989000006\n",
      "Epoch: 333 train loss: 0.01512 val loss: 0.01548 Time: 1.9406511439999576\n",
      "Epoch: 334 train loss: 0.01507 val loss: 0.01537 Time: 2.131988787999944\n",
      "Epoch: 335 train loss: 0.01509 val loss: 0.01556 Time: 2.0225288189999446\n",
      "Epoch: 336 train loss: 0.01519 val loss: 0.01549 Time: 1.9374472219999461\n",
      "Epoch: 337 train loss: 0.01516 val loss: 0.01542 Time: 1.9274875099999917\n",
      "Epoch: 338 train loss: 0.01513 val loss: 0.01541 Time: 2.29227392100006\n",
      "Epoch: 339 train loss: 0.01515 val loss: 0.01544 Time: 1.974955121999983\n",
      "Epoch: 340 train loss: 0.01512 val loss: 0.01541 Time: 2.3041475600000467\n",
      "Epoch: 341 train loss: 0.01507 val loss: 0.01542 Time: 2.307012857000018\n",
      "Epoch: 342 train loss: 0.01508 val loss: 0.01549 Time: 1.953845782000144\n",
      "Epoch: 343 train loss: 0.01515 val loss: 0.01549 Time: 2.007945870999947\n",
      "Epoch: 344 train loss: 0.01504 val loss: 0.01541 Time: 2.217957768000133\n",
      "Epoch: 345 train loss: 0.01499 val loss: 0.01542 Time: 2.174372820000144\n",
      "Epoch: 346 train loss: 0.01512 val loss: 0.01543 Time: 2.1110839610000767\n",
      "Epoch: 347 train loss: 0.01508 val loss: 0.01552 Time: 2.4852012320000085\n",
      "Epoch: 348 train loss: 0.01510 val loss: 0.01551 Time: 1.9913588270001128\n",
      "Epoch: 349 train loss: 0.01511 val loss: 0.01543 Time: 2.052127222000081\n",
      "Epoch: 350 train loss: 0.01507 val loss: 0.01536 Time: 2.248222301000169\n",
      "Epoch: 351 train loss: 0.01508 val loss: 0.01535 Time: 2.032917303999966\n",
      "Epoch: 352 train loss: 0.01510 val loss: 0.01531 Time: 1.9319930520000526\n",
      "Epoch: 353 train loss: 0.01501 val loss: 0.01543 Time: 2.0880260879998787\n",
      "Epoch: 354 train loss: 0.01508 val loss: 0.01547 Time: 2.113091216000157\n",
      "Epoch: 355 train loss: 0.01515 val loss: 0.01539 Time: 2.237298383000052\n",
      "Epoch: 356 train loss: 0.01501 val loss: 0.01552 Time: 1.981802916999868\n",
      "Epoch: 357 train loss: 0.01510 val loss: 0.01544 Time: 1.9644660710000608\n",
      "Epoch: 358 train loss: 0.01502 val loss: 0.01543 Time: 1.9700509490000968\n",
      "Epoch: 359 train loss: 0.01509 val loss: 0.01555 Time: 2.052176027000087\n",
      "Epoch: 360 train loss: 0.01507 val loss: 0.01546 Time: 1.9320196439998654\n",
      "Epoch: 361 train loss: 0.01504 val loss: 0.01542 Time: 2.198957785999937\n",
      "Epoch: 362 train loss: 0.01508 val loss: 0.01544 Time: 2.178819100000055\n",
      "Epoch: 363 train loss: 0.01505 val loss: 0.01543 Time: 1.9631021749999036\n",
      "Epoch: 364 train loss: 0.01564 val loss: 0.01540 Time: 2.04466801999979\n",
      "Epoch: 365 train loss: 0.01520 val loss: 0.01538 Time: 1.9784387899999274\n",
      "Epoch: 366 train loss: 0.01520 val loss: 0.01539 Time: 2.2696620929998517\n",
      "Epoch: 367 train loss: 0.01506 val loss: 0.01538 Time: 2.5027427949999037\n",
      "Epoch: 368 train loss: 0.01514 val loss: 0.01543 Time: 2.060244179999927\n",
      "Epoch: 369 train loss: 0.01512 val loss: 0.01549 Time: 2.2831534299998566\n",
      "Epoch: 370 train loss: 0.01513 val loss: 0.01537 Time: 1.9814608599999701\n",
      "Epoch: 371 train loss: 0.01505 val loss: 0.01538 Time: 2.214642544000071\n",
      "Epoch: 372 train loss: 0.01519 val loss: 0.01566 Time: 1.9994316559998424\n",
      "Epoch: 373 train loss: 0.01505 val loss: 0.01543 Time: 1.959770031999824\n",
      "Epoch: 374 train loss: 0.01493 val loss: 0.01531 Time: 1.968601581999792\n",
      "Epoch: 375 train loss: 0.01501 val loss: 0.01540 Time: 2.048316843000066\n",
      "Epoch: 376 train loss: 0.01496 val loss: 0.01541 Time: 2.2993379189999814\n",
      "Epoch: 377 train loss: 0.01497 val loss: 0.01545 Time: 2.2225339690000965\n",
      "Epoch: 378 train loss: 0.01494 val loss: 0.01542 Time: 1.9427034469999853\n",
      "Epoch: 379 train loss: 0.01496 val loss: 0.01537 Time: 2.200663416999987\n",
      "Epoch: 380 train loss: 0.01498 val loss: 0.01542 Time: 1.9171922870000344\n",
      "Epoch: 381 train loss: 0.01493 val loss: 0.01537 Time: 1.9338364279999496\n",
      "Epoch: 382 train loss: 0.01496 val loss: 0.01535 Time: 2.1549488220000512\n",
      "Epoch: 383 train loss: 0.01500 val loss: 0.01539 Time: 2.0134587219999958\n",
      "Epoch: 384 train loss: 0.01508 val loss: 0.01536 Time: 1.9902055789998485\n",
      "Epoch: 385 train loss: 0.01493 val loss: 0.01544 Time: 2.0486463469999308\n",
      "Epoch: 386 train loss: 0.01491 val loss: 0.01541 Time: 1.9853404429998136\n",
      "Epoch: 387 train loss: 0.01495 val loss: 0.01543 Time: 2.193540096999868\n",
      "Epoch: 388 train loss: 0.01492 val loss: 0.01540 Time: 1.9682217280001169\n",
      "Epoch: 389 train loss: 0.01494 val loss: 0.01539 Time: 2.055510015999971\n",
      "Epoch: 390 train loss: 0.01497 val loss: 0.01544 Time: 1.9385670960000425\n",
      "Epoch: 391 train loss: 0.01495 val loss: 0.01542 Time: 1.9823169750000034\n",
      "Epoch: 392 train loss: 0.01498 val loss: 0.01531 Time: 2.5712674089998018\n",
      "Epoch: 393 train loss: 0.01495 val loss: 0.01553 Time: 2.184974140000122\n",
      "Epoch: 394 train loss: 0.01499 val loss: 0.01530 Time: 2.16220961099998\n",
      "Epoch: 395 train loss: 0.01494 val loss: 0.01537 Time: 2.412365072000057\n",
      "Epoch: 396 train loss: 0.01491 val loss: 0.01532 Time: 2.270548921999989\n",
      "Epoch: 397 train loss: 0.01494 val loss: 0.01537 Time: 2.226093867000145\n",
      "Epoch: 398 train loss: 0.01494 val loss: 0.01534 Time: 2.2707525369999075\n",
      "Epoch: 399 train loss: 0.01492 val loss: 0.01541 Time: 1.966543831000081\n",
      "Epoch: 400 train loss: 0.01498 val loss: 0.01555 Time: 1.9300248090000878\n",
      "Epoch: 401 train loss: 0.01491 val loss: 0.01533 Time: 1.9689136100000724\n",
      "Epoch: 402 train loss: 0.01494 val loss: 0.01544 Time: 2.1255714219998936\n",
      "Epoch: 403 train loss: 0.01485 val loss: 0.01539 Time: 2.176667823000116\n",
      "Epoch: 404 train loss: 0.01504 val loss: 0.01538 Time: 2.029831793000085\n",
      "Epoch: 405 train loss: 0.01497 val loss: 0.01539 Time: 1.9588329890000296\n",
      "Epoch: 406 train loss: 0.01485 val loss: 0.01556 Time: 1.9866195110000717\n",
      "Epoch: 407 train loss: 0.01500 val loss: 0.01546 Time: 2.4381313379999483\n",
      "Epoch: 408 train loss: 0.01493 val loss: 0.01538 Time: 2.231534795000016\n",
      "Epoch: 409 train loss: 0.01489 val loss: 0.01534 Time: 2.1486356309999337\n",
      "Epoch: 410 train loss: 0.01506 val loss: 0.01544 Time: 1.9562616189998607\n",
      "Epoch: 411 train loss: 0.01487 val loss: 0.01535 Time: 1.9583177909998994\n",
      "Epoch: 412 train loss: 0.01488 val loss: 0.01532 Time: 2.0598669080000036\n",
      "Epoch: 413 train loss: 0.01490 val loss: 0.01532 Time: 2.3120097369999257\n",
      "Epoch: 414 train loss: 0.01494 val loss: 0.01537 Time: 1.9482815839999148\n",
      "Epoch: 415 train loss: 0.01495 val loss: 0.01530 Time: 1.9456005590000132\n",
      "Epoch: 416 train loss: 0.01483 val loss: 0.01535 Time: 1.9749559210001735\n",
      "Epoch: 417 train loss: 0.01489 val loss: 0.01533 Time: 2.218838834000053\n",
      "Epoch: 418 train loss: 0.01498 val loss: 0.01532 Time: 2.2518723670000327\n",
      "Epoch: 419 train loss: 0.01487 val loss: 0.01535 Time: 2.2002912609998475\n",
      "Epoch: 420 train loss: 0.01499 val loss: 0.01535 Time: 2.0983195960000103\n",
      "Epoch: 421 train loss: 0.01493 val loss: 0.01534 Time: 2.0293030500001805\n",
      "Epoch: 422 train loss: 0.01485 val loss: 0.01534 Time: 2.1900293500000316\n",
      "Epoch: 423 train loss: 0.01491 val loss: 0.01531 Time: 2.49459990299988\n",
      "Epoch: 424 train loss: 0.01488 val loss: 0.01533 Time: 2.4177163739998377\n",
      "Epoch: 425 train loss: 0.01485 val loss: 0.01539 Time: 2.1494844349999767\n",
      "Epoch: 426 train loss: 0.01489 val loss: 0.01530 Time: 2.1442679060000955\n",
      "Epoch: 427 train loss: 0.01493 val loss: 0.01530 Time: 1.9456657440000527\n",
      "Epoch: 428 train loss: 0.01485 val loss: 0.01528 Time: 2.1700270119999914\n",
      "Epoch: 429 train loss: 0.01483 val loss: 0.01547 Time: 1.9929618829999072\n",
      "Epoch: 430 train loss: 0.01487 val loss: 0.01529 Time: 1.969042884999908\n",
      "Epoch: 431 train loss: 0.01498 val loss: 0.01538 Time: 2.1118257779999112\n",
      "Epoch: 432 train loss: 0.01483 val loss: 0.01530 Time: 1.9649969360000341\n",
      "Epoch: 433 train loss: 0.01489 val loss: 0.01526 Time: 2.0628390300000774\n",
      "Epoch: 434 train loss: 0.01490 val loss: 0.01537 Time: 2.249332678999963\n",
      "Epoch: 435 train loss: 0.01488 val loss: 0.01538 Time: 2.0230184709998866\n",
      "Epoch: 436 train loss: 0.01495 val loss: 0.01533 Time: 2.071744532999901\n",
      "Epoch: 437 train loss: 0.01484 val loss: 0.01527 Time: 2.169766892000098\n",
      "Epoch: 438 train loss: 0.01484 val loss: 0.01524 Time: 2.01108566899984\n",
      "Epoch: 439 train loss: 0.01502 val loss: 0.01522 Time: 2.3056112509998457\n",
      "Epoch: 440 train loss: 0.01493 val loss: 0.01524 Time: 1.9907608799999252\n",
      "Epoch: 441 train loss: 0.01490 val loss: 0.01536 Time: 1.9219047609999507\n",
      "Epoch: 442 train loss: 0.01485 val loss: 0.01530 Time: 1.905533294999941\n",
      "Epoch: 443 train loss: 0.01496 val loss: 0.01536 Time: 1.9334654140000112\n",
      "Epoch: 444 train loss: 0.01478 val loss: 0.01526 Time: 2.0943780329998845\n",
      "Epoch: 445 train loss: 0.01484 val loss: 0.01530 Time: 2.096099833000153\n",
      "Epoch: 446 train loss: 0.01489 val loss: 0.01529 Time: 2.103122482999879\n",
      "Epoch: 447 train loss: 0.01473 val loss: 0.01530 Time: 2.0892241689998627\n",
      "Epoch: 448 train loss: 0.01477 val loss: 0.01529 Time: 2.02968703800002\n",
      "Epoch: 449 train loss: 0.01475 val loss: 0.01528 Time: 1.9620247799998651\n",
      "Epoch: 450 train loss: 0.01487 val loss: 0.01522 Time: 2.0957754870000826\n",
      "Epoch: 451 train loss: 0.01482 val loss: 0.01531 Time: 1.8883978300000308\n",
      "Epoch: 452 train loss: 0.01488 val loss: 0.01529 Time: 2.683956687000091\n",
      "Epoch: 453 train loss: 0.01497 val loss: 0.01528 Time: 2.2387550170001305\n",
      "Epoch: 454 train loss: 0.01484 val loss: 0.01541 Time: 2.224700177999921\n",
      "Epoch: 455 train loss: 0.01481 val loss: 0.01533 Time: 2.38664109299998\n",
      "Epoch: 456 train loss: 0.01486 val loss: 0.01530 Time: 1.961327343999983\n",
      "Epoch: 457 train loss: 0.01484 val loss: 0.01531 Time: 2.038029286999972\n",
      "Epoch: 458 train loss: 0.01484 val loss: 0.01531 Time: 2.012579088999928\n",
      "Epoch: 459 train loss: 0.01495 val loss: 0.01530 Time: 2.0781788270001016\n",
      "Epoch: 460 train loss: 0.01479 val loss: 0.01525 Time: 2.118437646000075\n",
      "Epoch: 461 train loss: 0.01489 val loss: 0.01530 Time: 1.9491978789999393\n",
      "Epoch: 462 train loss: 0.01480 val loss: 0.01533 Time: 1.9053896939999504\n",
      "Epoch: 463 train loss: 0.01483 val loss: 0.01535 Time: 1.9101105009999628\n",
      "Epoch: 464 train loss: 0.01481 val loss: 0.01528 Time: 1.9831185699999878\n",
      "Epoch: 465 train loss: 0.01485 val loss: 0.01527 Time: 2.101057598000125\n",
      "Epoch: 466 train loss: 0.01475 val loss: 0.01535 Time: 2.176179164000132\n",
      "Epoch: 467 train loss: 0.01479 val loss: 0.01534 Time: 2.1045472490000066\n",
      "Epoch: 468 train loss: 0.01473 val loss: 0.01529 Time: 2.50807444100019\n",
      "Epoch: 469 train loss: 0.01474 val loss: 0.01522 Time: 2.212235918000033\n",
      "Epoch: 470 train loss: 0.01477 val loss: 0.01524 Time: 2.3752549179998823\n",
      "Epoch: 471 train loss: 0.01473 val loss: 0.01530 Time: 1.9634638330001053\n",
      "Epoch: 472 train loss: 0.01477 val loss: 0.01523 Time: 2.080476294999926\n",
      "Epoch: 473 train loss: 0.01471 val loss: 0.01533 Time: 2.0593155149999802\n",
      "Epoch: 474 train loss: 0.01471 val loss: 0.01530 Time: 1.9441660239999692\n",
      "Epoch: 475 train loss: 0.01472 val loss: 0.01527 Time: 2.0100884099999803\n",
      "Epoch: 476 train loss: 0.01467 val loss: 0.01524 Time: 2.218029764999983\n",
      "Epoch: 477 train loss: 0.01489 val loss: 0.01535 Time: 2.110082162000026\n",
      "Epoch: 478 train loss: 0.01481 val loss: 0.01524 Time: 1.994804312000042\n",
      "Epoch: 479 train loss: 0.01471 val loss: 0.01535 Time: 2.001386946999901\n",
      "Epoch: 480 train loss: 0.01472 val loss: 0.01523 Time: 1.915193982999881\n",
      "Epoch: 481 train loss: 0.01468 val loss: 0.01533 Time: 2.9178339229999892\n",
      "Epoch: 482 train loss: 0.01479 val loss: 0.01525 Time: 2.418119727999965\n",
      "Epoch: 483 train loss: 0.01475 val loss: 0.01533 Time: 2.1833349539999745\n",
      "Epoch: 484 train loss: 0.01484 val loss: 0.01528 Time: 2.136225030999867\n",
      "Epoch: 485 train loss: 0.01477 val loss: 0.01526 Time: 1.9926303990000633\n",
      "Epoch: 486 train loss: 0.01467 val loss: 0.01521 Time: 2.1500858679999055\n",
      "Epoch: 487 train loss: 0.01465 val loss: 0.01524 Time: 2.0150261700000556\n",
      "Epoch: 488 train loss: 0.01467 val loss: 0.01532 Time: 2.07642908899993\n",
      "Epoch: 489 train loss: 0.01466 val loss: 0.01528 Time: 2.007533616000046\n",
      "Epoch: 490 train loss: 0.01475 val loss: 0.01523 Time: 1.9431147269999656\n",
      "Epoch: 491 train loss: 0.01466 val loss: 0.01531 Time: 2.3078743169999143\n",
      "Epoch: 492 train loss: 0.01475 val loss: 0.01523 Time: 1.9784764579999319\n",
      "Epoch: 493 train loss: 0.01472 val loss: 0.01525 Time: 1.991487460999906\n",
      "Epoch: 494 train loss: 0.01474 val loss: 0.01526 Time: 2.0041484099999707\n",
      "Epoch: 495 train loss: 0.01477 val loss: 0.01527 Time: 1.9289682630001153\n",
      "Epoch: 496 train loss: 0.01478 val loss: 0.01536 Time: 2.0287868499999604\n",
      "Epoch: 497 train loss: 0.01462 val loss: 0.01518 Time: 2.1308233499999005\n",
      "Epoch: 498 train loss: 0.01480 val loss: 0.01519 Time: 2.410216490000039\n",
      "Epoch: 499 train loss: 0.01479 val loss: 0.01525 Time: 2.1475458800000524\n",
      "Epoch: 500 train loss: 0.01487 val loss: 0.01527 Time: 1.9211607509998885\n"
     ]
    }
   ],
   "source": [
    "EPOCHS = 500\n",
    "# 500\n",
    "train_loss = []\n",
    "val_loss = []\n",
    "for epoch in range(1, EPOCHS + 1):\n",
    "    st = time.perf_counter()\n",
    "    model.to(DEVICE)\n",
    "    current_loss = 0\n",
    "    model.train()\n",
    "    for batch in train_iterator:\n",
    "        opt.zero_grad()\n",
    "        x, y = batch[:-1][0].cuda(), batch[-1].type(torch.FloatTensor).cuda()\n",
    "        y_pred = model(x).type(torch.FloatTensor).cuda()\n",
    "#         print(y)\n",
    "#         print(y_pred)\n",
    "        loss = criterion(y_pred, y)\n",
    "        loss.backward()\n",
    "        opt.step()\n",
    "        current_loss += loss.item()/TRAIN_BATCHES_LEN\n",
    "    train_loss.append(current_loss)\n",
    "    \n",
    "    model.eval()\n",
    "    with torch.no_grad():\n",
    "        current_loss = 0\n",
    "        for batch in val_iterator:\n",
    "            x, y = batch[:-1][0].cuda(), batch[-1].type(torch.FloatTensor).cuda()\n",
    "            y_pred = model(x)\n",
    "            loss = criterion(y_pred, y)\n",
    "            current_loss += loss.item()/VAL_BATCHES_LEN\n",
    "        val_loss.append(current_loss)\n",
    "    \n",
    "#     torch.save(model.cpu().state_dict(), 'epoch{}'.format(epoch))\n",
    "    \n",
    "    print('Epoch: {}'.format(epoch), 'train loss: {:.5f}'.format(train_loss[-1]), \n",
    "         'val loss: {:.5f}'.format(val_loss[-1]), 'Time: {}'.format(time.perf_counter() - st))"
   ]
  },
  {
   "cell_type": "code",
   "execution_count": 44,
   "metadata": {
    "execution": {
     "iopub.execute_input": "2020-11-29T09:10:25.649579Z",
     "iopub.status.busy": "2020-11-29T09:10:25.647804Z",
     "iopub.status.idle": "2020-11-29T09:10:25.690548Z",
     "shell.execute_reply": "2020-11-29T09:10:25.689969Z"
    },
    "papermill": {
     "duration": 0.315304,
     "end_time": "2020-11-29T09:10:25.690684",
     "exception": false,
     "start_time": "2020-11-29T09:10:25.375380",
     "status": "completed"
    },
    "tags": []
   },
   "outputs": [],
   "source": [
    "with torch.no_grad():\n",
    "    probs = model(torch.from_numpy(test_features.set_index('sig_id').to_numpy()).type(torch.FloatTensor).cuda()).cpu().numpy()\n",
    "    pred_3 = pd.concat([test_features[['sig_id']], pd.DataFrame(probs, columns = train_targets_scored.columns.drop('sig_id'))], axis=1)"
   ]
  },
  {
   "cell_type": "code",
   "execution_count": 45,
   "metadata": {
    "execution": {
     "iopub.execute_input": "2020-11-29T09:10:26.234051Z",
     "iopub.status.busy": "2020-11-29T09:10:26.232810Z",
     "iopub.status.idle": "2020-11-29T09:10:26.270556Z",
     "shell.execute_reply": "2020-11-29T09:10:26.269603Z"
    },
    "papermill": {
     "duration": 0.302245,
     "end_time": "2020-11-29T09:10:26.270665",
     "exception": false,
     "start_time": "2020-11-29T09:10:25.968420",
     "status": "completed"
    },
    "tags": []
   },
   "outputs": [],
   "source": [
    "submit = (pred_3.set_index('sig_id') + pred_2.set_index('sig_id') + pred_1.set_index('sig_id')) / 3"
   ]
  },
  {
   "cell_type": "code",
   "execution_count": 46,
   "metadata": {
    "execution": {
     "iopub.execute_input": "2020-11-29T09:10:26.810578Z",
     "iopub.status.busy": "2020-11-29T09:10:26.809616Z",
     "iopub.status.idle": "2020-11-29T09:10:28.744972Z",
     "shell.execute_reply": "2020-11-29T09:10:28.743838Z"
    },
    "papermill": {
     "duration": 2.211184,
     "end_time": "2020-11-29T09:10:28.745102",
     "exception": false,
     "start_time": "2020-11-29T09:10:26.533918",
     "status": "completed"
    },
    "tags": []
   },
   "outputs": [],
   "source": [
    "submit.reset_index().to_csv('submission.csv', index=None)"
   ]
  },
  {
   "cell_type": "code",
   "execution_count": null,
   "metadata": {
    "papermill": {
     "duration": 0.266648,
     "end_time": "2020-11-29T09:10:29.276322",
     "exception": false,
     "start_time": "2020-11-29T09:10:29.009674",
     "status": "completed"
    },
    "tags": []
   },
   "outputs": [],
   "source": []
  }
 ],
 "metadata": {
  "kernelspec": {
   "display_name": "Python 3",
   "language": "python",
   "name": "python3"
  },
  "language_info": {
   "codemirror_mode": {
    "name": "ipython",
    "version": 3
   },
   "file_extension": ".py",
   "mimetype": "text/x-python",
   "name": "python",
   "nbconvert_exporter": "python",
   "pygments_lexer": "ipython3",
   "version": "3.8.6"
  },
  "papermill": {
   "duration": 1298.313392,
   "end_time": "2020-11-29T09:10:30.050921",
   "environment_variables": {},
   "exception": null,
   "input_path": "__notebook__.ipynb",
   "output_path": "__notebook__.ipynb",
   "parameters": {},
   "start_time": "2020-11-29T08:48:51.737529",
   "version": "2.1.0"
  }
 },
 "nbformat": 4,
 "nbformat_minor": 4
}
